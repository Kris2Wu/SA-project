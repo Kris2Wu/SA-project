{
 "cells": [
  {
   "cell_type": "markdown",
   "metadata": {
    "id": "wW4mB8DZDInh"
   },
   "source": [
    "# Binary Classification of Fake or Real News\n"
   ]
  },
  {
   "cell_type": "markdown",
   "metadata": {
    "id": "uT-35w2zDxIQ"
   },
   "source": [
    "Using kaggle's dataset of \"Fake and real news dataset\", taken from ISOT News Dataset (https://www.uvic.ca/ecs/ece/isot/datasets/fake-news/index.php), we are trying to classify the authenticity of news recorded since 2015 to 2018. "
   ]
  },
  {
   "cell_type": "markdown",
   "metadata": {},
   "source": [
    "This dataset was scraped through reuters.com (real news) and politifact.com (fake news) by University of Victoria."
   ]
  },
  {
   "cell_type": "markdown",
   "metadata": {
    "id": "djko_0dgEizn"
   },
   "source": [
    "We are using various methods of tokenization and machine learning algorithms to show which algorithms can give the most satisfying result to classify fake or real news."
   ]
  },
  {
   "cell_type": "markdown",
   "metadata": {
    "id": "GGh-t-yWFFe8"
   },
   "source": [
    "1. Data preparation\n",
    "2. Visualization\n",
    "3. Creating models\n",
    "- Using tf-idf\n",
    "    * SVM\n",
    "    * Decision Tree\n",
    "    * Random Forest\n",
    "    * XGBoost\n",
    "- Using GloVe\n",
    "    * LSTM\n",
    "\n"
   ]
  },
  {
   "cell_type": "markdown",
   "metadata": {},
   "source": [
    "The division of responsibility is as follow,\n",
    "\n",
    "* Yifan is responsible for all the data preparation and visualization,\n",
    "\n",
    "* Yilang is responsible for creating model using TF-IDF\n",
    "\n",
    "* Kaicheng is responsible for creating model using GloVe, and LSTM\n",
    "\n",
    "\n",
    "Although each of our member has their own responsibilty, we often exchange suggestion and always ask one another if there is any confusion."
   ]
  },
  {
   "cell_type": "markdown",
   "metadata": {
    "id": "YzLHuexGC01W"
   },
   "source": [
    "``Importing packages``"
   ]
  },
  {
   "cell_type": "code",
   "execution_count": 1,
   "metadata": {
    "execution": {
     "iopub.execute_input": "2021-11-11T07:59:24.860929Z",
     "iopub.status.busy": "2021-11-11T07:59:24.859881Z",
     "iopub.status.idle": "2021-11-11T07:59:24.863421Z",
     "shell.execute_reply": "2021-11-11T07:59:24.862884Z"
    }
   },
   "outputs": [],
   "source": [
    "# !pip install nltk\n",
    "# !pip install plotly\n",
    "# !pip install wordcloud\n",
    "# !pip install tensorflow\n",
    "# !pip install xgboost\n",
    "# !pip install datasets\n",
    "# !pip install transformers[torch]\n"
   ]
  },
  {
   "cell_type": "code",
   "execution_count": 2,
   "metadata": {
    "execution": {
     "iopub.execute_input": "2021-11-11T07:59:24.871887Z",
     "iopub.status.busy": "2021-11-11T07:59:24.871327Z",
     "iopub.status.idle": "2021-11-11T07:59:29.748415Z",
     "shell.execute_reply": "2021-11-11T07:59:29.749321Z"
    },
    "id": "lhJ_Cj70tGrs"
   },
   "outputs": [
    {
     "ename": "ModuleNotFoundError",
     "evalue": "No module named 'seaborn'",
     "output_type": "error",
     "traceback": [
      "\u001b[1;31m---------------------------------------------------------------------------\u001b[0m",
      "\u001b[1;31mModuleNotFoundError\u001b[0m                       Traceback (most recent call last)",
      "\u001b[1;32m~\\AppData\\Local\\Temp\\ipykernel_30228\\1121092411.py\u001b[0m in \u001b[0;36m<module>\u001b[1;34m\u001b[0m\n\u001b[0;32m      9\u001b[0m \u001b[1;32mfrom\u001b[0m \u001b[0mnltk\u001b[0m\u001b[1;33m.\u001b[0m\u001b[0mstem\u001b[0m \u001b[1;32mimport\u001b[0m \u001b[0mWordNetLemmatizer\u001b[0m\u001b[1;33m\u001b[0m\u001b[1;33m\u001b[0m\u001b[0m\n\u001b[0;32m     10\u001b[0m \u001b[1;33m\u001b[0m\u001b[0m\n\u001b[1;32m---> 11\u001b[1;33m \u001b[1;32mimport\u001b[0m \u001b[0mseaborn\u001b[0m \u001b[1;32mas\u001b[0m \u001b[0msns\u001b[0m\u001b[1;33m\u001b[0m\u001b[1;33m\u001b[0m\u001b[0m\n\u001b[0m\u001b[0;32m     12\u001b[0m \u001b[1;32mimport\u001b[0m \u001b[0mmatplotlib\u001b[0m\u001b[1;33m.\u001b[0m\u001b[0mpyplot\u001b[0m \u001b[1;32mas\u001b[0m \u001b[0mplt\u001b[0m\u001b[1;33m\u001b[0m\u001b[1;33m\u001b[0m\u001b[0m\n\u001b[0;32m     13\u001b[0m \u001b[1;32mimport\u001b[0m \u001b[0mplotly\u001b[0m\u001b[1;33m.\u001b[0m\u001b[0mexpress\u001b[0m \u001b[1;32mas\u001b[0m \u001b[0mpx\u001b[0m\u001b[1;33m\u001b[0m\u001b[1;33m\u001b[0m\u001b[0m\n",
      "\u001b[1;31mModuleNotFoundError\u001b[0m: No module named 'seaborn'"
     ]
    }
   ],
   "source": [
    "import os\n",
    "import pandas as pd\n",
    "import numpy as np\n",
    "import re\n",
    "import string\n",
    "\n",
    "import nltk\n",
    "from nltk.corpus import stopwords\n",
    "from nltk.stem import WordNetLemmatizer\n",
    "\n",
    "import seaborn as sns\n",
    "import matplotlib.pyplot as plt\n",
    "import plotly.express as px\n",
    "import plotly.figure_factory as ff\n",
    "from wordcloud import WordCloud\n",
    "\n",
    "from sklearn.model_selection import train_test_split\n",
    "from sklearn.metrics import accuracy_score, precision_score, recall_score, confusion_matrix, fbeta_score, roc_auc_score,roc_curve,auc"
   ]
  },
  {
   "cell_type": "markdown",
   "metadata": {
    "id": "b7B-zCCRGhic"
   },
   "source": [
    "## Data Preparation"
   ]
  },
  {
   "cell_type": "markdown",
   "metadata": {},
   "source": [
    "This data is prepared by Yifan while considering the usage of the data on every model/method we are preparing"
   ]
  },
  {
   "cell_type": "markdown",
   "metadata": {
    "id": "IXtcAO6PDBuS"
   },
   "source": [
    "``Importing our datasets``"
   ]
  },
  {
   "cell_type": "code",
   "execution_count": null,
   "metadata": {
    "execution": {
     "iopub.execute_input": "2021-11-11T07:59:29.758446Z",
     "iopub.status.busy": "2021-11-11T07:59:29.757322Z",
     "iopub.status.idle": "2021-11-11T07:59:30.975101Z",
     "shell.execute_reply": "2021-11-11T07:59:30.974151Z"
    },
    "id": "UR04hDo-sau3"
   },
   "outputs": [],
   "source": [
    "path = 'dataset'\n",
    "\n",
    "fake = pd.read_csv(os.path.join(path, 'Fake.csv'))\n",
    "real = pd.read_csv(os.path.join(path, 'True.csv'))"
   ]
  },
  {
   "cell_type": "code",
   "execution_count": null,
   "metadata": {
    "colab": {
     "base_uri": "https://localhost:8080/",
     "height": 204
    },
    "execution": {
     "iopub.execute_input": "2021-11-11T07:59:30.981264Z",
     "iopub.status.busy": "2021-11-11T07:59:30.980202Z",
     "iopub.status.idle": "2021-11-11T07:59:31.027982Z",
     "shell.execute_reply": "2021-11-11T07:59:31.028322Z"
    },
    "id": "ApwdpGbWsgqw",
    "outputId": "d849c6ab-6d31-4f1a-b901-af891b52f2bd"
   },
   "outputs": [],
   "source": [
    "real.head()"
   ]
  },
  {
   "cell_type": "markdown",
   "metadata": {
    "id": "9t723WNtkJAx"
   },
   "source": [
    "We noticed that the first 5 texts of real news have \"(Reuters)\" and a city name in front of it."
   ]
  },
  {
   "cell_type": "code",
   "execution_count": null,
   "metadata": {
    "colab": {
     "base_uri": "https://localhost:8080/",
     "height": 204
    },
    "execution": {
     "iopub.execute_input": "2021-11-11T07:59:31.042393Z",
     "iopub.status.busy": "2021-11-11T07:59:31.041793Z",
     "iopub.status.idle": "2021-11-11T07:59:31.044928Z",
     "shell.execute_reply": "2021-11-11T07:59:31.044429Z"
    },
    "id": "rb-rhdF_slWc",
    "outputId": "f72610b2-8729-42f0-c91b-d34dfb1c0359"
   },
   "outputs": [],
   "source": [
    "fake.head()"
   ]
  },
  {
   "cell_type": "markdown",
   "metadata": {
    "id": "4kP-Ieu1kd9s"
   },
   "source": [
    "However, this is not the case for fake news. Let's find out how many of real news contain \"(Reuters)\" tag in it."
   ]
  },
  {
   "cell_type": "code",
   "execution_count": null,
   "metadata": {
    "colab": {
     "base_uri": "https://localhost:8080/"
    },
    "execution": {
     "iopub.execute_input": "2021-11-11T07:59:31.130577Z",
     "iopub.status.busy": "2021-11-11T07:59:31.095612Z",
     "iopub.status.idle": "2021-11-11T07:59:31.176587Z",
     "shell.execute_reply": "2021-11-11T07:59:31.177518Z"
    },
    "id": "Iz4OkQf2krkF",
    "outputId": "10602925-4f6d-43be-9346-fc20bdc6b4c2"
   },
   "outputs": [],
   "source": [
    "print(\"Real news with 'Reuters': \" + str(real.text.str.contains(\"\\(Reuters\\) - \").sum()) +\"/\" + str(real.shape[0]) + \", \" + str(real.text.str.contains(\"\\(Reuters\\) -\").mean()*100)+\"%\")\n",
    "print(\"Fake news with 'Reuters': \" + str(fake.text.str.contains(\"\\(Reuters\\) - \").sum()) +\"/\" + str(fake.shape[0]) + \", \" + str(fake.text.str.contains(\"\\(Reuters\\) -\").mean()*100)+\"%\")"
   ]
  },
  {
   "cell_type": "markdown",
   "metadata": {
    "id": "6PQThlsPmMo6"
   },
   "source": [
    "This can be bad for our machine learning model, as our model can be biased towards the \"(Reuters)\" word --> if it contains \"(Reuters)\", predict real news.\n",
    "\n",
    "Let's see what happens if we predict False (real news) when the text contains \"(Reuters)\"\n"
   ]
  },
  {
   "cell_type": "markdown",
   "metadata": {
    "id": "eN6Xx5dSncUU"
   },
   "source": [
    "``Combining real and fake news data to 1 DataFrame``"
   ]
  },
  {
   "cell_type": "code",
   "execution_count": null,
   "metadata": {
    "execution": {
     "iopub.execute_input": "2021-11-11T07:59:31.183181Z",
     "iopub.status.busy": "2021-11-11T07:59:31.181981Z",
     "iopub.status.idle": "2021-11-11T07:59:31.189244Z",
     "shell.execute_reply": "2021-11-11T07:59:31.188805Z"
    },
    "id": "2-dWL74xyQR_"
   },
   "outputs": [],
   "source": [
    "fake_with_label = fake.assign(is_fake = 1)\n",
    "real_with_label = real.assign(is_fake = 0)\n",
    "\n",
    "data = pd.concat([real_with_label,fake_with_label],axis=0,ignore_index=True) "
   ]
  },
  {
   "cell_type": "code",
   "execution_count": null,
   "metadata": {
    "execution": {
     "iopub.execute_input": "2021-11-11T07:59:31.252147Z",
     "iopub.status.busy": "2021-11-11T07:59:31.224658Z",
     "iopub.status.idle": "2021-11-11T07:59:31.255245Z",
     "shell.execute_reply": "2021-11-11T07:59:31.254258Z"
    },
    "id": "UHBPW-b70U4O"
   },
   "outputs": [],
   "source": [
    "no_reuters = ~data.text.str.contains(\"\\(Reuters\\) - \")"
   ]
  },
  {
   "cell_type": "code",
   "execution_count": null,
   "metadata": {
    "colab": {
     "base_uri": "https://localhost:8080/",
     "height": 316
    },
    "execution": {
     "iopub.execute_input": "2021-11-11T07:59:31.260792Z",
     "iopub.status.busy": "2021-11-11T07:59:31.259789Z",
     "iopub.status.idle": "2021-11-11T07:59:31.472808Z",
     "shell.execute_reply": "2021-11-11T07:59:31.473720Z"
    },
    "id": "6ZWDR0Nzrxhf",
    "outputId": "70df4e72-b76c-42e3-f930-d7b7c9ec8716"
   },
   "outputs": [],
   "source": [
    "cf_matrix = confusion_matrix(no_reuters, data['is_fake'])\n",
    "\n",
    "sns.heatmap(cf_matrix, annot=True, cmap='Blues', fmt = \"d\")\n",
    "\n",
    "print(\"Accuracy score: \"+str(accuracy_score(no_reuters, data['is_fake'])*100) + \"%\")\n",
    "print(\"\\nConfusion matrix: \")"
   ]
  },
  {
   "cell_type": "markdown",
   "metadata": {
    "id": "RZALE1TouTPO"
   },
   "source": [
    "We can obtain 99.6% accuracy with only that condition. Therefore, we need to delete \"(Reuters)\" if it appears in the first 5 words of the text, delete it and the city name preceding it.\n",
    "\n",
    "To do this, we are using regex, which is '.\\*\\\\(Reuters\\) - ', meaning everything before and the word '(Reuters) - '. The function below deletes the words according to the regex in data['text']."
   ]
  },
  {
   "cell_type": "markdown",
   "metadata": {
    "id": "uxkpe7lh87A1"
   },
   "source": [
    "``Removing the words``"
   ]
  },
  {
   "cell_type": "code",
   "execution_count": null,
   "metadata": {
    "colab": {
     "base_uri": "https://localhost:8080/",
     "height": 204
    },
    "execution": {
     "iopub.execute_input": "2021-11-11T07:59:31.479242Z",
     "iopub.status.busy": "2021-11-11T07:59:31.478120Z",
     "iopub.status.idle": "2021-11-11T07:59:32.525589Z",
     "shell.execute_reply": "2021-11-11T07:59:32.526145Z"
    },
    "id": "IzaiD6U6MbY3",
    "outputId": "41d6e9af-2e42-45f1-b7ea-2c62fa57ecf0"
   },
   "outputs": [],
   "source": [
    "# data = data.replace(to_replace = r'.*\\(Reuters\\) - ', value = '', regex = True)\n",
    "\n",
    "# Exported to save time running the program\n",
    "# data.to_csv(os.path.join(path,\"data.csv\"))\n",
    "\n",
    "# Load exported file\n",
    "data = pd.read_csv(os.path.join(path,\"data.csv\"))\n",
    "\n",
    "\n",
    "data.head()"
   ]
  },
  {
   "cell_type": "markdown",
   "metadata": {
    "id": "hrseyQJc_snO"
   },
   "source": [
    "Great! We successfully removed a huge exploit to our model. \n",
    "\n",
    "Another problem that usually happens is empty/null values in our dataset. Let's check if there are any."
   ]
  },
  {
   "cell_type": "code",
   "execution_count": null,
   "metadata": {
    "colab": {
     "base_uri": "https://localhost:8080/",
     "height": 204
    },
    "execution": {
     "iopub.execute_input": "2021-11-11T07:59:32.537100Z",
     "iopub.status.busy": "2021-11-11T07:59:32.531949Z",
     "iopub.status.idle": "2021-11-11T07:59:32.785385Z",
     "shell.execute_reply": "2021-11-11T07:59:32.786216Z"
    },
    "id": "a-UkwC9xd-0c",
    "outputId": "410062a4-1f51-4792-8ceb-394a6bcbe2af"
   },
   "outputs": [],
   "source": [
    "data = data.replace(to_replace = r'U.S.', value = 'U.S.A.', regex = True)\n",
    "data.head()"
   ]
  },
  {
   "cell_type": "markdown",
   "metadata": {
    "id": "60fHg4FALZyw"
   },
   "source": [
    "``Checking empty values``"
   ]
  },
  {
   "cell_type": "code",
   "execution_count": null,
   "metadata": {
    "colab": {
     "base_uri": "https://localhost:8080/"
    },
    "execution": {
     "iopub.execute_input": "2021-11-11T07:59:32.798130Z",
     "iopub.status.busy": "2021-11-11T07:59:32.797148Z",
     "iopub.status.idle": "2021-11-11T07:59:32.802270Z",
     "shell.execute_reply": "2021-11-11T07:59:32.801767Z"
    },
    "id": "2bn0uYprLGnP",
    "outputId": "3394f3b2-0c68-4ea6-ad25-86873fb3a2a1"
   },
   "outputs": [],
   "source": [
    "data.isnull().sum()"
   ]
  },
  {
   "cell_type": "markdown",
   "metadata": {
    "id": "WhbY_T8rAJdF"
   },
   "source": [
    "Seems like there are no empty values in our dataset.\n",
    "\n",
    "Another problem that usually occurs is duplicates in our dataset. Let's check if there are any."
   ]
  },
  {
   "cell_type": "markdown",
   "metadata": {
    "id": "E0AGq7igb-fM"
   },
   "source": [
    "``Checking duplicates``"
   ]
  },
  {
   "cell_type": "code",
   "execution_count": null,
   "metadata": {
    "colab": {
     "base_uri": "https://localhost:8080/"
    },
    "execution": {
     "iopub.execute_input": "2021-11-11T07:59:32.843887Z",
     "iopub.status.busy": "2021-11-11T07:59:32.843246Z",
     "iopub.status.idle": "2021-11-11T07:59:33.045131Z",
     "shell.execute_reply": "2021-11-11T07:59:33.045956Z"
    },
    "id": "zxwMNyD3AyOh",
    "outputId": "71a15d3b-3139-4402-f87a-f9cb8d3a1bc2"
   },
   "outputs": [],
   "source": [
    "duplicates_text = data[data.duplicated(subset = ['text'])]\n",
    "duplicates_title = data[data.duplicated(subset = ['title'])]\n",
    "\n",
    "print(\"Duplicates in text: \" + str(duplicates_text.shape[0]) + \"/\" + str(data.shape[0]))\n",
    "print(\"Duplicates in title: \" + str(duplicates_title.shape[0]) + \"/\" + str(data.shape[0]))"
   ]
  },
  {
   "cell_type": "markdown",
   "metadata": {
    "id": "dRZgFj2YB4J3"
   },
   "source": [
    "There are quite a lot of duplicates in our dataset. After splitting into train and test set, these duplicates in our train set can leak to our test set. Hence, we need to remove them."
   ]
  },
  {
   "cell_type": "markdown",
   "metadata": {
    "id": "qot4aWkXCFsl"
   },
   "source": [
    "``Removing duplicates``"
   ]
  },
  {
   "cell_type": "code",
   "execution_count": null,
   "metadata": {
    "colab": {
     "base_uri": "https://localhost:8080/"
    },
    "execution": {
     "iopub.execute_input": "2021-11-11T07:59:33.054513Z",
     "iopub.status.busy": "2021-11-11T07:59:33.053520Z",
     "iopub.status.idle": "2021-11-11T07:59:33.263697Z",
     "shell.execute_reply": "2021-11-11T07:59:33.264305Z"
    },
    "id": "f-ovVIpKCIFp",
    "outputId": "db1d92a8-685b-47d7-ca78-3252ca349473"
   },
   "outputs": [],
   "source": [
    "data = data.drop_duplicates(subset = ['text'])\n",
    "data = data.drop_duplicates(subset = ['title'])\n",
    "\n",
    "data.shape"
   ]
  },
  {
   "cell_type": "markdown",
   "metadata": {
    "id": "ThuZsYGsCcIA"
   },
   "source": [
    "We successfully removed the duplicates in our dataset. Now we need to drop the subject and date column since we only want to classify the news based on the title and the article. We are still keeping them in separate variable for visualization."
   ]
  },
  {
   "cell_type": "markdown",
   "metadata": {
    "id": "m1DjSsDUh4gC"
   },
   "source": [
    "``Dropping columns``"
   ]
  },
  {
   "cell_type": "code",
   "execution_count": null,
   "metadata": {
    "execution": {
     "iopub.execute_input": "2021-11-11T07:59:33.336844Z",
     "iopub.status.busy": "2021-11-11T07:59:33.334563Z",
     "iopub.status.idle": "2021-11-11T07:59:37.554969Z",
     "shell.execute_reply": "2021-11-11T07:59:37.555778Z"
    },
    "id": "HF-LFOd_hkAt"
   },
   "outputs": [],
   "source": [
    "data_cleaned = data.drop(columns = ['subject', 'date'])\n",
    "data_cleaned[\"article\"] = data_cleaned[\"title\"] + data_cleaned[\"text\"]\n",
    "data_cleaned.to_csv(path+\"data_cleaned.csv\", index = False)\n",
    "\n",
    "full_data = data\n",
    "\n",
    "data_cleaned = pd.read_csv(path+\"data_cleaned.csv\")"
   ]
  },
  {
   "cell_type": "code",
   "execution_count": null,
   "metadata": {
    "colab": {
     "base_uri": "https://localhost:8080/",
     "height": 419
    },
    "execution": {
     "iopub.execute_input": "2021-11-11T07:59:37.564456Z",
     "iopub.status.busy": "2021-11-11T07:59:37.563586Z",
     "iopub.status.idle": "2021-11-11T07:59:37.566783Z",
     "shell.execute_reply": "2021-11-11T07:59:37.567297Z"
    },
    "id": "5Y1UyUyfxZ24",
    "outputId": "a498d1d3-0805-4437-ef46-4ddafd849b51"
   },
   "outputs": [],
   "source": [
    "data_cleaned.head()"
   ]
  },
  {
   "cell_type": "markdown",
   "metadata": {
    "id": "uhhn54tfifuM"
   },
   "source": [
    "This data is now ready to be visualized. We also need to split our data for training and testing."
   ]
  },
  {
   "cell_type": "code",
   "execution_count": null,
   "metadata": {
    "execution": {
     "iopub.execute_input": "2021-11-11T07:59:37.572215Z",
     "iopub.status.busy": "2021-11-11T07:59:37.571671Z",
     "iopub.status.idle": "2021-11-11T07:59:37.573922Z",
     "shell.execute_reply": "2021-11-11T07:59:37.573479Z"
    },
    "id": "JSMpnifmf8pS"
   },
   "outputs": [],
   "source": [
    "def review_cleaning(text):\n",
    "    '''Make text lowercase, remove text in square brackets,remove links,remove punctuation\n",
    "    and remove words containing numbers.'''\n",
    "    text = str(text).lower()\n",
    "    text = re.sub('\\[.*?\\]', '', text)\n",
    "    text = re.sub('https?://\\S+|www\\.\\S+', '', text)\n",
    "    text = re.sub('<.*?>+', '', text)\n",
    "    text = re.sub('[%s]' % re.escape(string.punctuation), '', text)\n",
    "    text = re.sub('\\n', '', text)\n",
    "    text = re.sub('\\w*\\d\\w*', '', text)\n",
    "    return text"
   ]
  },
  {
   "cell_type": "code",
   "execution_count": null,
   "metadata": {
    "colab": {
     "base_uri": "https://localhost:8080/",
     "height": 204
    },
    "execution": {
     "iopub.execute_input": "2021-11-11T07:59:37.647761Z",
     "iopub.status.busy": "2021-11-11T07:59:37.605140Z",
     "iopub.status.idle": "2021-11-11T07:59:49.212035Z",
     "shell.execute_reply": "2021-11-11T07:59:49.212922Z"
    },
    "id": "KLo2KwnXgEe-",
    "outputId": "7f29ee30-703e-41e9-8449-b33ec18ccbbc"
   },
   "outputs": [],
   "source": [
    "data_cleaned['article']=data_cleaned['article'].apply(lambda x:review_cleaning(x))\n",
    "data_cleaned.head()"
   ]
  },
  {
   "cell_type": "code",
   "execution_count": null,
   "metadata": {
    "colab": {
     "base_uri": "https://localhost:8080/",
     "height": 238
    },
    "execution": {
     "iopub.execute_input": "2021-11-11T07:59:49.219014Z",
     "iopub.status.busy": "2021-11-11T07:59:49.217929Z",
     "iopub.status.idle": "2021-11-11T08:00:10.264047Z",
     "shell.execute_reply": "2021-11-11T08:00:10.264945Z"
    },
    "id": "eDtpLTC2gdno",
    "outputId": "a2e064d3-bd4d-48d2-bc74-d85a8f11dae3"
   },
   "outputs": [],
   "source": [
    "nltk.download('stopwords')\n",
    "\n",
    "stop = stopwords.words('english')\n",
    "data_cleaned['article'] = data_cleaned['article'].apply(lambda x: ' '.join([word for word in x.split() if word not in (stop)]))\n",
    "\n",
    "data_cleaned.head()"
   ]
  },
  {
   "cell_type": "code",
   "execution_count": null,
   "metadata": {
    "colab": {
     "base_uri": "https://localhost:8080/",
     "height": 204
    },
    "execution": {
     "iopub.execute_input": "2021-11-11T08:00:10.270182Z",
     "iopub.status.busy": "2021-11-11T08:00:10.269115Z",
     "iopub.status.idle": "2021-11-11T08:00:33.441850Z",
     "shell.execute_reply": "2021-11-11T08:00:33.442686Z"
    },
    "id": "XUo9_rAGjXNG",
    "outputId": "7347b1b6-06a3-4f33-daed-ca38297460a2"
   },
   "outputs": [],
   "source": [
    "import nltk\n",
    "nltk.download('omw-1.4')\n",
    "nltk.download('wordnet')\n",
    "\n",
    "lemma = WordNetLemmatizer()\n",
    "lem = lambda x: ' '.join(list(map(lemma.lemmatize, x.split())))\n",
    "data_cleaned['article'] = data_cleaned['article'].apply(lem)\n",
    "\n",
    "data_cleaned.head()"
   ]
  },
  {
   "cell_type": "code",
   "execution_count": null,
   "metadata": {
    "colab": {
     "base_uri": "https://localhost:8080/"
    },
    "execution": {
     "iopub.execute_input": "2021-11-11T08:00:33.448601Z",
     "iopub.status.busy": "2021-11-11T08:00:33.447524Z",
     "iopub.status.idle": "2021-11-11T08:00:36.942441Z",
     "shell.execute_reply": "2021-11-11T08:00:36.941490Z"
    },
    "id": "WAbXovwgsuJU",
    "outputId": "ff18885b-f6d1-4322-ab7b-68d0d93bf8fd"
   },
   "outputs": [],
   "source": [
    "data_cleaned = pd.read_csv(os.path.join(path, 'data_cleaned.csv'))\n",
    "\n",
    "data_cleaned = data_cleaned[~data_cleaned.article.isnull()]\n",
    "data_cleaned.shape\n",
    "\n",
    "data_cleaned.to_csv(os.path.join(path, 'data_cleaned.csv'), index = False)\n",
    "\n",
    "data_cleaned.shape"
   ]
  },
  {
   "cell_type": "markdown",
   "metadata": {},
   "source": [
    "Our data is now cleaned."
   ]
  },
  {
   "cell_type": "markdown",
   "metadata": {
    "id": "oLxfKOrUjqfY"
   },
   "source": [
    "``Splitting data``"
   ]
  },
  {
   "cell_type": "markdown",
   "metadata": {},
   "source": [
    "We are splitting our data to 80% training and 20% test set."
   ]
  },
  {
   "cell_type": "code",
   "execution_count": null,
   "metadata": {
    "execution": {
     "iopub.execute_input": "2021-11-11T08:00:37.009165Z",
     "iopub.status.busy": "2021-11-11T08:00:36.962562Z",
     "iopub.status.idle": "2021-11-11T08:00:37.072738Z",
     "shell.execute_reply": "2021-11-11T08:00:37.073588Z"
    },
    "id": "ATUzoVQhjsML"
   },
   "outputs": [],
   "source": [
    "X_train, X_test, y_train, y_test = train_test_split(data_cleaned[['article']], data_cleaned[['is_fake']], test_size = 0.2, stratify = data_cleaned[['is_fake']], random_state = 100)"
   ]
  },
  {
   "cell_type": "code",
   "execution_count": null,
   "metadata": {
    "colab": {
     "base_uri": "https://localhost:8080/"
    },
    "execution": {
     "iopub.execute_input": "2021-11-11T08:00:37.078891Z",
     "iopub.status.busy": "2021-11-11T08:00:37.077802Z",
     "iopub.status.idle": "2021-11-11T08:00:37.081543Z",
     "shell.execute_reply": "2021-11-11T08:00:37.082470Z"
    },
    "id": "2eUGXum4x-39",
    "outputId": "0750acbb-2432-4d7e-8135-680e3262572e"
   },
   "outputs": [],
   "source": [
    "X_train.shape, y_train.shape"
   ]
  },
  {
   "cell_type": "code",
   "execution_count": null,
   "metadata": {
    "colab": {
     "base_uri": "https://localhost:8080/"
    },
    "execution": {
     "iopub.execute_input": "2021-11-11T08:00:37.087340Z",
     "iopub.status.busy": "2021-11-11T08:00:37.086890Z",
     "iopub.status.idle": "2021-11-11T08:00:37.090401Z",
     "shell.execute_reply": "2021-11-11T08:00:37.089501Z"
    },
    "id": "OqII-P5ryD07",
    "outputId": "b2c8f85d-f71e-4018-af3b-5f65075f0ac5"
   },
   "outputs": [],
   "source": [
    "X_test.shape, y_test.shape"
   ]
  },
  {
   "cell_type": "markdown",
   "metadata": {
    "id": "-C_MAaEiGnlB"
   },
   "source": [
    "## Visualization"
   ]
  },
  {
   "cell_type": "markdown",
   "metadata": {
    "id": "ZzCkXvkA0qv3"
   },
   "source": [
    "Now we need to visualize our data. We will start by the count of fake and real news in our dataset."
   ]
  },
  {
   "cell_type": "code",
   "execution_count": null,
   "metadata": {
    "colab": {
     "base_uri": "https://localhost:8080/",
     "height": 542
    },
    "execution": {
     "iopub.execute_input": "2021-11-11T08:00:37.095990Z",
     "iopub.status.busy": "2021-11-11T08:00:37.095349Z",
     "iopub.status.idle": "2021-11-11T08:00:38.940996Z",
     "shell.execute_reply": "2021-11-11T08:00:38.940565Z"
    },
    "id": "Q-2K393L04vu",
    "outputId": "596f4603-6354-4099-9ad2-457e03fd5850"
   },
   "outputs": [],
   "source": [
    "bar_type_df = pd.DataFrame({'Type': ['Real', 'Fake'], 'Count': [full_data[full_data['is_fake'] == 0].count()[0], full_data[full_data['is_fake'] == 1].count()[0]]}) \n",
    "\n",
    "fig = px.bar(bar_type_df, x = \"Type\", y = \"Count\", color = \"Count\")\n",
    "fig.show()"
   ]
  },
  {
   "cell_type": "markdown",
   "metadata": {
    "id": "0JttnztJkCdg"
   },
   "source": [
    "Ratio of \"Real\":\"Fake\" is 20821:17449, which is around 1.19:1. Pretty good for our dataset as it is not too imbalanced."
   ]
  },
  {
   "cell_type": "markdown",
   "metadata": {
    "id": "Mq7j9ogl57WH"
   },
   "source": [
    "Counting our dataset by its subjects"
   ]
  },
  {
   "cell_type": "code",
   "execution_count": null,
   "metadata": {
    "colab": {
     "base_uri": "https://localhost:8080/",
     "height": 542
    },
    "execution": {
     "iopub.execute_input": "2021-11-11T08:00:38.952239Z",
     "iopub.status.busy": "2021-11-11T08:00:38.951789Z",
     "iopub.status.idle": "2021-11-11T08:00:39.150353Z",
     "shell.execute_reply": "2021-11-11T08:00:39.151257Z"
    },
    "id": "uA7lYxAm578l",
    "outputId": "7988cd76-499a-4b61-bc0e-6a0ab45747b8"
   },
   "outputs": [],
   "source": [
    "bar_subject_df=full_data.groupby(['subject', 'is_fake']).apply(lambda x:x['title'].count()).reset_index(name='Counts')\n",
    "fig=px.bar(bar_subject_df,x='subject',y='Counts',color='is_fake',title='Count of News Articles by Subject')\n",
    "fig.show()"
   ]
  },
  {
   "cell_type": "markdown",
   "metadata": {},
   "source": [
    "Now, we want to see when our news articles are posted."
   ]
  },
  {
   "cell_type": "code",
   "execution_count": null,
   "metadata": {
    "colab": {
     "base_uri": "https://localhost:8080/",
     "height": 419
    },
    "execution": {
     "iopub.execute_input": "2021-11-11T08:00:39.158135Z",
     "iopub.status.busy": "2021-11-11T08:00:39.157141Z",
     "iopub.status.idle": "2021-11-11T08:00:39.510391Z",
     "shell.execute_reply": "2021-11-11T08:00:39.511225Z"
    },
    "id": "-R7FtsAY8MqV",
    "outputId": "5a19957a-18a0-427c-e150-69324e7b3e0c"
   },
   "outputs": [],
   "source": [
    "line_date_df=full_data.groupby(['date', 'is_fake']).apply(lambda x:x['title'].count()).reset_index(name='Counts')\n",
    "\n",
    "line_date_df = (line_date_df[line_date_df.date.str.contains(\"Jan|Feb|Mar|Apr|May|Jun|Jul|Sep|Oct|Nov|Dec\")])\n",
    "line_date_df['date'] = pd.to_datetime(line_date_df.date)\n",
    "\n",
    "line_date_df = line_date_df.sort_values(by='date')\n",
    "\n",
    "line_date_df.head()"
   ]
  },
  {
   "cell_type": "code",
   "execution_count": null,
   "metadata": {
    "colab": {
     "base_uri": "https://localhost:8080/",
     "height": 542
    },
    "execution": {
     "iopub.execute_input": "2021-11-11T08:00:39.516235Z",
     "iopub.status.busy": "2021-11-11T08:00:39.515167Z",
     "iopub.status.idle": "2021-11-11T08:00:39.690633Z",
     "shell.execute_reply": "2021-11-11T08:00:39.691554Z"
    },
    "id": "kEkoAm7gd4R9",
    "outputId": "bd7355ce-9fed-422f-aeec-9f6025b2c00a"
   },
   "outputs": [],
   "source": [
    "fig = px.line(line_date_df, x = \"date\", y = \"Counts\", color = \"is_fake\")\n",
    "fig.show()"
   ]
  },
  {
   "cell_type": "markdown",
   "metadata": {},
   "source": [
    "We want to see the wordcloud of our fake and real news."
   ]
  },
  {
   "cell_type": "code",
   "execution_count": null,
   "metadata": {
    "execution": {
     "iopub.execute_input": "2021-11-11T08:00:39.697819Z",
     "iopub.status.busy": "2021-11-11T08:00:39.696740Z",
     "iopub.status.idle": "2021-11-11T08:00:39.698914Z",
     "shell.execute_reply": "2021-11-11T08:00:39.699258Z"
    },
    "id": "SQ61jZCYlGXj"
   },
   "outputs": [],
   "source": [
    "def generate_word_cloud(text):\n",
    "    wordcloud = WordCloud(\n",
    "        width = 3000,\n",
    "        height = 2000,\n",
    "        background_color = 'black').generate(str(text))\n",
    "    fig = plt.figure(\n",
    "        figsize = (40, 30),\n",
    "        facecolor = 'k',\n",
    "        edgecolor = 'k')\n",
    "    plt.imshow(wordcloud, interpolation = 'bilinear')\n",
    "    plt.axis('off')\n",
    "    plt.tight_layout(pad=0)\n",
    "    plt.show()"
   ]
  },
  {
   "cell_type": "markdown",
   "metadata": {},
   "source": [
    "``Real News WordCloud``"
   ]
  },
  {
   "cell_type": "code",
   "execution_count": null,
   "metadata": {
    "execution": {
     "iopub.execute_input": "2021-11-11T08:00:39.702780Z",
     "iopub.status.busy": "2021-11-11T08:00:39.702367Z",
     "iopub.status.idle": "2021-11-11T08:00:49.289849Z",
     "shell.execute_reply": "2021-11-11T08:00:49.290204Z"
    }
   },
   "outputs": [],
   "source": [
    "generate_word_cloud(data_cleaned[data_cleaned.is_fake == 0].article.values)"
   ]
  },
  {
   "cell_type": "markdown",
   "metadata": {},
   "source": [
    "``Fake News WordCloud`` "
   ]
  },
  {
   "cell_type": "code",
   "execution_count": null,
   "metadata": {
    "execution": {
     "iopub.execute_input": "2021-11-11T08:00:49.294021Z",
     "iopub.status.busy": "2021-11-11T08:00:49.293608Z",
     "iopub.status.idle": "2021-11-11T08:00:58.621778Z",
     "shell.execute_reply": "2021-11-11T08:00:58.622131Z"
    }
   },
   "outputs": [],
   "source": [
    "generate_word_cloud(data_cleaned[data_cleaned.is_fake == 1].article.values)"
   ]
  },
  {
   "cell_type": "markdown",
   "metadata": {},
   "source": [
    "Now, we will visualize our article's length to determine the max length, especially for GloVe"
   ]
  },
  {
   "cell_type": "code",
   "execution_count": null,
   "metadata": {
    "execution": {
     "iopub.execute_input": "2021-11-11T08:00:58.666013Z",
     "iopub.status.busy": "2021-11-11T08:00:58.630929Z",
     "iopub.status.idle": "2021-11-11T08:00:59.561147Z",
     "shell.execute_reply": "2021-11-11T08:00:59.561502Z"
    }
   },
   "outputs": [],
   "source": [
    "word_count = data_cleaned\n",
    "word_count['word count'] = data_cleaned['article'].str.split().str.len()\n",
    "\n",
    "fig = px.histogram(word_count, x=\"word count\")\n",
    "fig.show()"
   ]
  },
  {
   "cell_type": "markdown",
   "metadata": {},
   "source": [
    "As we can see from the histogram, 250 as our word length is sufficient without sacrificing our model's robustness."
   ]
  },
  {
   "cell_type": "markdown",
   "metadata": {
    "id": "U2B6lIWfGpqD"
   },
   "source": [
    "## Creating models"
   ]
  },
  {
   "cell_type": "markdown",
   "metadata": {
    "id": "tUgO5uoskrki"
   },
   "source": [
    "``Baseline Model``"
   ]
  },
  {
   "cell_type": "code",
   "execution_count": null,
   "metadata": {
    "colab": {
     "base_uri": "https://localhost:8080/"
    },
    "execution": {
     "iopub.execute_input": "2021-11-11T08:00:59.565328Z",
     "iopub.status.busy": "2021-11-11T08:00:59.564908Z",
     "iopub.status.idle": "2021-11-11T08:00:59.568181Z",
     "shell.execute_reply": "2021-11-11T08:00:59.568508Z"
    },
    "id": "4KoyFyzM8KR7",
    "outputId": "b9f5c6ed-e0ca-4b67-d234-3fd5daeb7f98"
   },
   "outputs": [],
   "source": [
    "print(20821/38265*100)"
   ]
  },
  {
   "cell_type": "markdown",
   "metadata": {
    "id": "ZBW7Ng1oTIAi"
   },
   "source": [
    "Since there sre 54.41% of real news, we can set our baseline model to 54.41%. If our model could pass this baseline model, it means that it has successfully learned to classify our dataset."
   ]
  },
  {
   "cell_type": "markdown",
   "metadata": {},
   "source": [
    "### TF-IDF"
   ]
  },
  {
   "cell_type": "markdown",
   "metadata": {},
   "source": [
    "``Importing the required library``"
   ]
  },
  {
   "cell_type": "code",
   "execution_count": null,
   "metadata": {
    "execution": {
     "iopub.execute_input": "2021-11-11T08:00:59.572834Z",
     "iopub.status.busy": "2021-11-11T08:00:59.572418Z",
     "iopub.status.idle": "2021-11-11T08:00:59.683486Z",
     "shell.execute_reply": "2021-11-11T08:00:59.683007Z"
    },
    "id": "I8c1OZ3qTXqA"
   },
   "outputs": [],
   "source": [
    "from sklearn.pipeline import Pipeline\n",
    "from sklearn.svm import LinearSVC\n",
    "from sklearn.tree import DecisionTreeClassifier\n",
    "from sklearn.ensemble import RandomForestClassifier\n",
    "from xgboost import XGBClassifier\n",
    "from sklearn.feature_extraction.text import CountVectorizer, TfidfVectorizer, TfidfTransformer\n",
    "from sklearn.metrics import classification_report"
   ]
  },
  {
   "cell_type": "code",
   "execution_count": null,
   "metadata": {
    "execution": {
     "iopub.execute_input": "2021-11-11T08:00:59.725193Z",
     "iopub.status.busy": "2021-11-11T08:00:59.688020Z",
     "iopub.status.idle": "2021-11-11T08:00:59.811661Z",
     "shell.execute_reply": "2021-11-11T08:00:59.810732Z"
    }
   },
   "outputs": [],
   "source": [
    "X_train, X_test, y_train, y_test = train_test_split(data_cleaned['article'], data_cleaned['is_fake'], test_size = 0.2, stratify = data_cleaned[['is_fake']], random_state = 100)"
   ]
  },
  {
   "cell_type": "code",
   "execution_count": null,
   "metadata": {
    "execution": {
     "iopub.execute_input": "2021-11-11T08:00:59.818924Z",
     "iopub.status.busy": "2021-11-11T08:00:59.817896Z",
     "iopub.status.idle": "2021-11-11T08:00:59.819987Z",
     "shell.execute_reply": "2021-11-11T08:00:59.820804Z"
    },
    "id": "cdoac9tlTglg"
   },
   "outputs": [],
   "source": [
    "def get_prediction(vectorizer, classifier, X_train, X_test, y_train, y_test):\n",
    "    pipe = Pipeline([('vector', vectorizer),\n",
    "                    ('model', classifier)])\n",
    "    model = pipe.fit(X_train, y_train)\n",
    "    y_pred = model.predict(X_test)\n",
    "    print(\"Accuracy: {}\".format(round(accuracy_score(y_test, y_pred)*100,2)))\n",
    "    cm = confusion_matrix(y_test, y_pred)\n",
    "    print(\"Confusion Matrix: \\n\", cm)\n",
    "    return float(accuracy_score(y_test, y_pred))\n",
    "    \n",
    "def final_prediction(vectorizer, classifier, X_train, X_test, y_train, y_test):\n",
    "    pipe = Pipeline([('vector', vectorizer),\n",
    "                    ('model', classifier)])\n",
    "    model = pipe.fit(X_train, y_train)\n",
    "    y_pred = model.predict(X_test)\n",
    "    print(\"Accuracy: {}\".format(round(accuracy_score(y_test, y_pred)*100,5)))\n",
    "    cm = confusion_matrix(y_test, y_pred)\n",
    "    sns.heatmap(cm, annot = True, fmt=\".0f\", annot_kws={\"size\": 18})\n",
    "    plt.show()\n",
    "    print(\"Classification Report: \\n\", classification_report(y_test, y_pred))"
   ]
  },
  {
   "cell_type": "markdown",
   "metadata": {},
   "source": [
    "#### SVM"
   ]
  },
  {
   "cell_type": "code",
   "execution_count": null,
   "metadata": {
    "colab": {
     "base_uri": "https://localhost:8080/",
     "height": 542
    },
    "execution": {
     "iopub.execute_input": "2021-11-11T08:00:59.896074Z",
     "iopub.status.busy": "2021-11-11T08:00:59.859466Z",
     "iopub.status.idle": "2021-11-11T08:01:35.901973Z",
     "shell.execute_reply": "2021-11-11T08:01:35.901141Z"
    },
    "id": "y650-y0sT1nN",
    "outputId": "463b026f-7ad5-480c-a71f-25b64a636c58"
   },
   "outputs": [],
   "source": [
    "accuracy = 0.0\n",
    "tmp_accuracy = 0.0\n",
    "best_c=0\n",
    "c_list= [ 0.1,0.5,0.9, 1.0, 1.1]\n",
    "\n",
    "\n",
    "for c in c_list :\n",
    "  tmp_accuracy = get_prediction(TfidfVectorizer(), LinearSVC(C =c, random_state = 100), X_train, X_test, y_train, y_test)\n",
    "  if tmp_accuracy > accuracy:\n",
    "    accuracy = tmp_accuracy     \n",
    "    best_c=c\n",
    "\n",
    "print (\"--------------------------------------------------------------------------------------------\")\n",
    "print(\"After trying several number of C possibilities, the fittest C parameter for this data is C =\", best_c)\n",
    "final_prediction(TfidfVectorizer(), LinearSVC(C =best_c), X_train, X_test, y_train, y_test)\n"
   ]
  },
  {
   "cell_type": "markdown",
   "metadata": {},
   "source": [
    "#### Decision Tree"
   ]
  },
  {
   "cell_type": "code",
   "execution_count": null,
   "metadata": {
    "execution": {
     "iopub.execute_input": "2021-11-11T08:01:35.982402Z",
     "iopub.status.busy": "2021-11-11T08:01:35.946156Z",
     "iopub.status.idle": "2021-11-11T08:03:40.007467Z",
     "shell.execute_reply": "2021-11-11T08:03:40.008312Z"
    }
   },
   "outputs": [],
   "source": [
    "accuracy = 0\n",
    "tmp_accuracy = 0\n",
    "best_depth=0\n",
    "depth_list= [10,30,50,100]\n",
    "\n",
    "\n",
    "for depth in depth_list :\n",
    "  tmp_accuracy = get_prediction(TfidfVectorizer(), DecisionTreeClassifier(max_depth = depth, random_state = 100), X_train, X_test, y_train, y_test)\n",
    "  if tmp_accuracy > accuracy:\n",
    "    accuracy=tmp_accuracy\n",
    "    best_depth=depth\n",
    "\n",
    "print (\"--------------------------------------------------------------------------------------------\")\n",
    "print(\"After trying several number of depth possibilities, the fittest depth parameter for this data is depth =\", best_depth)\n",
    "final_prediction(TfidfVectorizer(), DecisionTreeClassifier(max_depth = best_depth, random_state = 100), X_train, X_test, y_train, y_test)"
   ]
  },
  {
   "cell_type": "markdown",
   "metadata": {},
   "source": [
    "#### Random Forest"
   ]
  },
  {
   "cell_type": "code",
   "execution_count": null,
   "metadata": {
    "execution": {
     "iopub.execute_input": "2021-11-11T08:03:40.083873Z",
     "iopub.status.busy": "2021-11-11T08:03:40.047641Z",
     "iopub.status.idle": "2021-11-11T08:08:04.000257Z",
     "shell.execute_reply": "2021-11-11T08:08:03.999353Z"
    }
   },
   "outputs": [],
   "source": [
    "accuracy = 0\n",
    "tmp_accuracy = 0\n",
    "best_n_tree=0\n",
    "n_trees= [100,200,300]\n",
    "\n",
    "\n",
    "for n_tree in n_trees :\n",
    "  tmp_accuracy = get_prediction(TfidfVectorizer(), RandomForestClassifier(n_estimators = n_tree, max_depth = best_depth, random_state = 100), X_train, X_test, y_train, y_test)\n",
    "  if tmp_accuracy > accuracy:\n",
    "    accuracy=tmp_accuracy\n",
    "    best_n_tree=n_tree\n",
    "\n",
    "print (\"--------------------------------------------------------------------------------------------\")\n",
    "print(\"After trying several number of trees possibilities, the fittest n_estimators parameter for this data is = \", best_n_tree)\n",
    "final_prediction(TfidfVectorizer(), RandomForestClassifier(n_estimators = best_n_tree, max_depth = best_depth, random_state = 100), X_train, X_test, y_train, y_test)"
   ]
  },
  {
   "cell_type": "markdown",
   "metadata": {},
   "source": [
    "#### XGBoost"
   ]
  },
  {
   "cell_type": "code",
   "execution_count": null,
   "metadata": {
    "execution": {
     "iopub.execute_input": "2021-11-11T08:08:04.085818Z",
     "iopub.status.busy": "2021-11-11T08:08:04.049696Z",
     "iopub.status.idle": "2021-11-11T08:12:49.988830Z",
     "shell.execute_reply": "2021-11-11T08:12:49.988418Z"
    }
   },
   "outputs": [],
   "source": [
    "accuracy = 0\n",
    "tmp_accuracy = 0\n",
    "best_n_tree=0\n",
    "n_tree_list= [100, 200, 300, 500]\n",
    "\n",
    "\n",
    "for n_tree in n_tree_list :\n",
    "  tmp_accuracy = get_prediction(TfidfVectorizer(), XGBClassifier(max_depth = best_depth, n_estimators = n_tree, random_state = 100), X_train, X_test, y_train, y_test)\n",
    "  if tmp_accuracy > accuracy:\n",
    "    accuracy=tmp_accuracy\n",
    "    best_n_tree=n_tree\n",
    "\n",
    "print (\"--------------------------------------------------------------------------------------------\")\n",
    "print(\"After trying several number of trees possibilities, the fittest n_estimators parameter for this data is =\", n_tree)\n",
    "final_prediction(TfidfVectorizer(), XGBClassifier(max_depth = best_depth, n_estimators = best_n_tree, random_state = 100), X_train, X_test, y_train, y_test)"
   ]
  },
  {
   "cell_type": "markdown",
   "metadata": {},
   "source": [
    "Although in each of the model it seems that we only try on 4 values on the parameters, we have actually tried more than that, however, in order to save the running time we only put 4 different values on each parameters to show the contrast and that twitching the values will give us a better result."
   ]
  },
  {
   "cell_type": "markdown",
   "metadata": {
    "id": "H23WAKOFiWC2"
   },
   "source": [
    "### GloVe\n",
    "\n",
    "An unsupervised learning algorithm used to obtain vector representation of words"
   ]
  },
  {
   "cell_type": "markdown",
   "metadata": {},
   "source": [
    "``Importing the required library``"
   ]
  },
  {
   "cell_type": "code",
   "execution_count": null,
   "metadata": {
    "execution": {
     "iopub.execute_input": "2021-11-11T08:12:49.992193Z",
     "iopub.status.busy": "2021-11-11T08:12:49.991731Z",
     "iopub.status.idle": "2021-11-11T08:12:53.448251Z",
     "shell.execute_reply": "2021-11-11T08:12:53.447340Z"
    },
    "id": "148m5lFFlMtF"
   },
   "outputs": [],
   "source": [
    "import tensorflow as tf\n",
    "from tensorflow.keras.layers import LSTM, GRU, Dense, Embedding, Dropout\n",
    "from tensorflow.keras.preprocessing import text, sequence \n",
    "from tensorflow.keras.models import Sequential"
   ]
  },
  {
   "cell_type": "code",
   "execution_count": null,
   "metadata": {
    "execution": {
     "iopub.execute_input": "2021-11-11T08:12:53.525841Z",
     "iopub.status.busy": "2021-11-11T08:12:53.489743Z",
     "iopub.status.idle": "2021-11-11T08:12:53.577626Z",
     "shell.execute_reply": "2021-11-11T08:12:53.578473Z"
    }
   },
   "outputs": [],
   "source": [
    "X_train, X_test, y_train, y_test = train_test_split(data_cleaned[['article']], data_cleaned[['is_fake']], test_size = 0.2, stratify = data_cleaned[['is_fake']], random_state = 100)"
   ]
  },
  {
   "cell_type": "markdown",
   "metadata": {
    "id": "tWtwZd8sm4pK"
   },
   "source": [
    "#### Tokenize + Padding\n",
    "\n",
    "Tokenizer finds the frequency of each unique word and sort them based on their frequency. Then, it will assign an integer value (starting from 1) to each word from the top."
   ]
  },
  {
   "cell_type": "code",
   "execution_count": null,
   "metadata": {
    "execution": {
     "iopub.execute_input": "2021-11-11T08:12:53.583903Z",
     "iopub.status.busy": "2021-11-11T08:12:53.582845Z",
     "iopub.status.idle": "2021-11-11T08:12:53.585049Z",
     "shell.execute_reply": "2021-11-11T08:12:53.585927Z"
    },
    "id": "a66sRujHrgtd"
   },
   "outputs": [],
   "source": [
    "xtrain_values = X_train['article'].values\n",
    "xtest_values = X_test['article'].values"
   ]
  },
  {
   "cell_type": "code",
   "execution_count": null,
   "metadata": {
    "execution": {
     "iopub.execute_input": "2021-11-11T08:12:53.590727Z",
     "iopub.status.busy": "2021-11-11T08:12:53.589668Z",
     "iopub.status.idle": "2021-11-11T08:12:53.591293Z",
     "shell.execute_reply": "2021-11-11T08:12:53.591638Z"
    },
    "id": "ACznPt42oiQx"
   },
   "outputs": [],
   "source": [
    "max_len = 250"
   ]
  },
  {
   "cell_type": "code",
   "execution_count": null,
   "metadata": {
    "execution": {
     "iopub.execute_input": "2021-11-11T08:12:53.671811Z",
     "iopub.status.busy": "2021-11-11T08:12:53.625351Z",
     "iopub.status.idle": "2021-11-11T08:13:05.157153Z",
     "shell.execute_reply": "2021-11-11T08:13:05.156236Z"
    },
    "id": "W9xA1DZbiXmX"
   },
   "outputs": [],
   "source": [
    "max_words = 10000\n",
    "tokenizer = text.Tokenizer(num_words=max_words)\n",
    "\n",
    "# Fit tokenizer on our training data set to create the word indices\n",
    "tokenizer.fit_on_texts(xtrain_values)\n",
    "\n",
    "# Using word index from fit_on_texts step, we transform both train & test data set\n",
    "X_train_seq = tokenizer.texts_to_sequences(xtrain_values)\n",
    "X_test_seq = tokenizer.texts_to_sequences(xtest_values)\n",
    "\n",
    "# Add padding to the sequence\n",
    "X_train_pad = sequence.pad_sequences(X_train_seq, maxlen = max_len)\n",
    "X_test_pad = sequence.pad_sequences(X_test_seq, maxlen = max_len)\n",
    "word_index = tokenizer.word_index\n"
   ]
  },
  {
   "cell_type": "code",
   "execution_count": null,
   "metadata": {
    "colab": {
     "base_uri": "https://localhost:8080/"
    },
    "execution": {
     "iopub.execute_input": "2021-11-11T08:13:05.163519Z",
     "iopub.status.busy": "2021-11-11T08:13:05.162421Z",
     "iopub.status.idle": "2021-11-11T08:13:05.166135Z",
     "shell.execute_reply": "2021-11-11T08:13:05.167031Z"
    },
    "id": "5hrLUkCWlBh0",
    "outputId": "b9c58c96-1ee6-4445-81d0-3c7087bd7428"
   },
   "outputs": [],
   "source": [
    "print(\"Text example:\", xtrain_values[0])\n",
    "print(\"Sequence of indices (before add padding): \", X_train_seq[0])\n",
    "print(\"Sequence of indices (after add padding): \", X_train_pad[0])"
   ]
  },
  {
   "cell_type": "markdown",
   "metadata": {
    "id": "dUCKqvjbu03f"
   },
   "source": [
    "#### Word Embedding using pre-trained GloVe vectors\n",
    "\n",
    "Represent words with similar meaning to have similar representation\n",
    "\n",
    "(GloVe pre-trained word vectors via: https://nlp.stanford.edu/projects/glove/)\n"
   ]
  },
  {
   "cell_type": "markdown",
   "metadata": {
    "id": "vVyQhAiSxsai"
   },
   "source": [
    "Load the GloVe vectors"
   ]
  },
  {
   "cell_type": "code",
   "execution_count": null,
   "metadata": {
    "execution": {
     "iopub.execute_input": "2021-11-11T08:13:05.172042Z",
     "iopub.status.busy": "2021-11-11T08:13:05.170961Z",
     "iopub.status.idle": "2021-11-11T08:13:05.173186Z",
     "shell.execute_reply": "2021-11-11T08:13:05.174066Z"
    },
    "id": "vQU1N9mVu2iN"
   },
   "outputs": [],
   "source": [
    "glovetxt = os.path.join(path, 'glove.6B.100d.txt')"
   ]
  },
  {
   "cell_type": "code",
   "execution_count": null,
   "metadata": {
    "execution": {
     "iopub.execute_input": "2021-11-11T08:13:05.179159Z",
     "iopub.status.busy": "2021-11-11T08:13:05.178089Z",
     "iopub.status.idle": "2021-11-11T08:13:11.319640Z",
     "shell.execute_reply": "2021-11-11T08:13:11.320498Z"
    },
    "id": "S5Wi7rW6v8XT"
   },
   "outputs": [],
   "source": [
    "embedding_vectors = {};\n",
    "\n",
    "with open(glovetxt) as f:\n",
    "    for line in f:\n",
    "        values = line.split();\n",
    "        word = values[0];\n",
    "        weights = np.asarray(values[1:], dtype='float32');\n",
    "        embedding_vectors[word] = weights;\n"
   ]
  },
  {
   "cell_type": "code",
   "execution_count": null,
   "metadata": {
    "colab": {
     "base_uri": "https://localhost:8080/"
    },
    "execution": {
     "iopub.execute_input": "2021-11-11T08:13:11.325702Z",
     "iopub.status.busy": "2021-11-11T08:13:11.324625Z",
     "iopub.status.idle": "2021-11-11T08:13:11.329157Z",
     "shell.execute_reply": "2021-11-11T08:13:11.328212Z"
    },
    "id": "KW4CA2WJwnUl",
    "outputId": "68cdce15-1497-4bba-8007-fad2a0e4b685"
   },
   "outputs": [],
   "source": [
    "print(\"Size of vocabulary in GloVe\", len(embedding_vectors))"
   ]
  },
  {
   "cell_type": "markdown",
   "metadata": {
    "id": "krp_PiCtxz5h"
   },
   "source": [
    "**Embedding matrix with the GloVe vectors**\n",
    "\n",
    "Embedding matrix with a shape of (vocab length, embedding dimension)\n",
    "\n",
    "Each row of the matrix belongs to one word in the vocabulary and contains the weight of embedding vectors of the word"
   ]
  },
  {
   "cell_type": "code",
   "execution_count": null,
   "metadata": {
    "execution": {
     "iopub.execute_input": "2021-11-11T08:13:11.334486Z",
     "iopub.status.busy": "2021-11-11T08:13:11.333420Z",
     "iopub.status.idle": "2021-11-11T08:13:11.335297Z",
     "shell.execute_reply": "2021-11-11T08:13:11.335639Z"
    },
    "id": "bOqEg-1KxdjQ"
   },
   "outputs": [],
   "source": [
    "embedding_dim = 100   # size of the vector space in which words will be embedded\n",
    "if max_words is not None: \n",
    "    vocab_len = max_words \n",
    "else:\n",
    "    vocab_len = len(word_index)+1\n",
    "\n",
    "# Initialize the embedding matrix with zeros\n",
    "embedding_matrix = np.zeros((vocab_len, embedding_dim))"
   ]
  },
  {
   "cell_type": "code",
   "execution_count": null,
   "metadata": {
    "execution": {
     "iopub.execute_input": "2021-11-11T08:13:11.339630Z",
     "iopub.status.busy": "2021-11-11T08:13:11.339214Z",
     "iopub.status.idle": "2021-11-11T08:13:11.379503Z",
     "shell.execute_reply": "2021-11-11T08:13:11.379040Z"
    },
    "id": "oIGF6l-etHv5"
   },
   "outputs": [],
   "source": [
    "oov_count = 0\n",
    "oov_words = []\n",
    "\n",
    "for word, i in word_index.items():\n",
    "  if i<vocab_len:\n",
    "    embedding_vector = embedding_vectors.get(word)\n",
    "    if embedding_vector is not None:\n",
    "      embedding_matrix[i] = embedding_vector\n",
    "    # If a word in word_index is not found in the embedding_vectors from GloVe, we put it in oov_words and its weight remains 0\n",
    "    else:\n",
    "      oov_count+=1\n",
    "      oov_words.append(word)"
   ]
  },
  {
   "cell_type": "code",
   "execution_count": null,
   "metadata": {
    "colab": {
     "base_uri": "https://localhost:8080/"
    },
    "execution": {
     "iopub.execute_input": "2021-11-11T08:13:11.383504Z",
     "iopub.status.busy": "2021-11-11T08:13:11.382870Z",
     "iopub.status.idle": "2021-11-11T08:13:11.385009Z",
     "shell.execute_reply": "2021-11-11T08:13:11.385534Z"
    },
    "id": "v6UWZKLdxjV-",
    "outputId": "090d4d8d-908e-4a4d-f64a-2ac894a9b300"
   },
   "outputs": [],
   "source": [
    "print(\"Some Out of Vocabulary words: \", oov_words[0:10])"
   ]
  },
  {
   "cell_type": "code",
   "execution_count": null,
   "metadata": {
    "colab": {
     "base_uri": "https://localhost:8080/"
    },
    "execution": {
     "iopub.execute_input": "2021-11-11T08:13:11.389130Z",
     "iopub.status.busy": "2021-11-11T08:13:11.388499Z",
     "iopub.status.idle": "2021-11-11T08:13:11.391158Z",
     "shell.execute_reply": "2021-11-11T08:13:11.390794Z"
    },
    "id": "bmKrpwaH0Jdd",
    "outputId": "f1c827a2-83c1-47ef-e787-334ad81b3d84"
   },
   "outputs": [],
   "source": [
    "print(f\"{oov_count} out of {vocab_len} words are OOV\")"
   ]
  },
  {
   "cell_type": "markdown",
   "metadata": {
    "id": "0w2Ea10995FF"
   },
   "source": [
    "#### Modeling"
   ]
  },
  {
   "cell_type": "markdown",
   "metadata": {
    "id": "pGhEyUuAJyOT"
   },
   "source": [
    "##### **Model Architecture**\n",
    "\n",
    "![LSTM-Model-ArchitectureArtboard-1.png](data:image/png;base64,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)"
   ]
  },
  {
   "cell_type": "markdown",
   "metadata": {
    "id": "dpngLDXuwWHF"
   },
   "source": [
    "**First Layer: Embedding Layer**\n",
    "\n",
    "It represents words using a dense vector representation. The position of a word within the vector space is based on the words that surround the word when it is used. E.g “king” is placed near “man”\n",
    "\n",
    "In this case, we set the `weights` of the Embedding layer with embedding matrix from GloVe pre-trained vectors <br>We set the parameter `trainable` to False as we don't want the embedding weights to be updated"
   ]
  },
  {
   "cell_type": "markdown",
   "metadata": {
    "id": "QTNnjPiNxM-G"
   },
   "source": [
    "**Second Layer: LSTM**\n",
    "\n",
    "Here we will use 3 different unit sizes, whicha re 64, 128, and 256. \n",
    "<br>The `return_sequences` set to be False as we don't want the output of previous LSTM layers to be used as the input in the next LSTM layers\n",
    "\n"
   ]
  },
  {
   "cell_type": "markdown",
   "metadata": {
    "id": "q6fV30sxzdyo"
   },
   "source": [
    "**Third Layer: Dropout**\n",
    "\n",
    "It is a regularizer technique that keeping it as away as possible from any bias (overfitting) by dropping out neurons at random, during every epoch\n",
    "<br>Fraction of the input `unit` to drop: 0.5"
   ]
  },
  {
   "cell_type": "markdown",
   "metadata": {
    "id": "SUNhKj9E1BJ4"
   },
   "source": [
    "**Final Layer: Dense**\n",
    "\n",
    "It helps in changing the dimensionality of the output from the preceding layer so that the model can easily define the relationship between the values of the data in which the model is working.\n",
    "\n",
    "We first use the ReLU (Rectified Linear Unit) activation function. The function returns 0 if it receives any negative input, but for any positive value  x  it returns that value back. So it can be written as  f(x)=max(0,x). The rectified linear activation function overcomes the vanishing gradient problem, allowing models to learn faster and perform better.\n",
    "\n",
    "Since we are doing a Binary Classification in this case, the `activation` function is **sigmoid(x) = 1 / (1 + exp(-x))**. <br>Sigmoid function maps any input to an output ranging from **0 to 1** \n",
    "Sigmoid layer `unit` equals to 1 as the output size of the final layer\n"
   ]
  },
  {
   "cell_type": "markdown",
   "metadata": {
    "id": "8XEABvBQ5bJz"
   },
   "source": [
    "##### **LSTM with output size of 64**"
   ]
  },
  {
   "cell_type": "code",
   "execution_count": null,
   "metadata": {
    "colab": {
     "base_uri": "https://localhost:8080/"
    },
    "execution": {
     "iopub.execute_input": "2021-11-11T08:13:11.396259Z",
     "iopub.status.busy": "2021-11-11T08:13:11.395841Z",
     "iopub.status.idle": "2021-11-11T08:13:11.652605Z",
     "shell.execute_reply": "2021-11-11T08:13:11.652099Z"
    },
    "id": "-PjV4Q0t_wT-",
    "outputId": "3f7ff6a3-e7ea-42a0-f509-b1fc5ffb29f9"
   },
   "outputs": [],
   "source": [
    "lstm_model = tf.keras.Sequential([\n",
    "    tf.keras.layers.Embedding(vocab_len, embedding_dim, input_length=max_len, weights=[embedding_matrix], trainable=True),\n",
    "    tf.keras.layers.LSTM(64,return_sequences=False),\n",
    "    tf.keras.layers.Dropout(0.5),\n",
    "    tf.keras.layers.Dense(32, activation='relu'),\n",
    "    tf.keras.layers.Dense(1, activation = 'sigmoid')\n",
    "])\n",
    "\n",
    "lstm_model.compile(loss='binary_crossentropy', optimizer='adam', metrics=['accuracy'])\n",
    "print(lstm_model.summary())"
   ]
  },
  {
   "cell_type": "markdown",
   "metadata": {
    "id": "13ZyH5z3IZuJ"
   },
   "source": [
    "Fit the model to the training and testing dataset"
   ]
  },
  {
   "cell_type": "code",
   "execution_count": null,
   "metadata": {
    "colab": {
     "base_uri": "https://localhost:8080/"
    },
    "execution": {
     "iopub.execute_input": "2021-11-11T08:13:11.671844Z",
     "iopub.status.busy": "2021-11-11T08:13:11.656773Z",
     "iopub.status.idle": "2021-11-11T08:27:20.263941Z",
     "shell.execute_reply": "2021-11-11T08:27:20.263310Z"
    },
    "id": "5FFLljRVABPy",
    "outputId": "e042dd54-3515-4776-a32b-96682b08b75b"
   },
   "outputs": [],
   "source": [
    "epochs  = 20\n",
    "history = lstm_model.fit(X_train_pad, np.asarray(y_train), epochs = epochs, validation_data=(X_test_pad, np.asarray(y_test)), batch_size=128)"
   ]
  },
  {
   "cell_type": "markdown",
   "metadata": {
    "id": "z_Yhg8t1ITvq"
   },
   "source": [
    "Evaluation of LSTM Model"
   ]
  },
  {
   "cell_type": "code",
   "execution_count": null,
   "metadata": {
    "colab": {
     "base_uri": "https://localhost:8080/",
     "height": 516
    },
    "execution": {
     "iopub.execute_input": "2021-11-11T08:27:20.289040Z",
     "iopub.status.busy": "2021-11-11T08:27:20.288163Z",
     "iopub.status.idle": "2021-11-11T08:27:20.421672Z",
     "shell.execute_reply": "2021-11-11T08:27:20.422570Z"
    },
    "id": "p8-xC7PB3G4z",
    "outputId": "9380e3d5-0085-4039-b109-0900073376b4"
   },
   "outputs": [],
   "source": [
    "plt.figure(figsize = (15,8))\n",
    "plt.plot(range(epochs), history.history['loss'])\n",
    "plt.plot(range(epochs), history.history['val_loss'])\n",
    "plt.legend(['training_loss', 'validation_loss'])\n",
    "plt.title('Loss')"
   ]
  },
  {
   "cell_type": "code",
   "execution_count": null,
   "metadata": {
    "colab": {
     "base_uri": "https://localhost:8080/",
     "height": 542
    },
    "execution": {
     "iopub.execute_input": "2021-11-11T08:27:20.430647Z",
     "iopub.status.busy": "2021-11-11T08:27:20.429572Z",
     "iopub.status.idle": "2021-11-11T08:27:20.476175Z",
     "shell.execute_reply": "2021-11-11T08:27:20.477022Z"
    },
    "id": "Tvttbauf3IkO",
    "outputId": "e9005416-85f1-43a1-8a3b-beae7593450b"
   },
   "outputs": [],
   "source": [
    "from plotly.subplots import make_subplots\n",
    "import plotly.graph_objects as go\n",
    "\n",
    "fig = make_subplots(\n",
    "    rows=2, cols=1,\n",
    "    subplot_titles=(\"Training Accuracy\", \"Test Accuracy\"))\n",
    "\n",
    "fig.add_trace(go.Scatter(x=[*range(epochs)], y=history.history['accuracy']), row=1, col=1)\n",
    "\n",
    "fig.add_trace(go.Scatter(x=[*range(epochs)], y=history.history['val_accuracy']), row=2, col=1)\n",
    "\n",
    "fig.show()\n"
   ]
  },
  {
   "cell_type": "code",
   "execution_count": null,
   "metadata": {
    "colab": {
     "base_uri": "https://localhost:8080/"
    },
    "execution": {
     "iopub.execute_input": "2021-11-11T08:27:20.487738Z",
     "iopub.status.busy": "2021-11-11T08:27:20.486963Z",
     "iopub.status.idle": "2021-11-11T08:27:41.458747Z",
     "shell.execute_reply": "2021-11-11T08:27:41.459505Z"
    },
    "id": "HWliLOWm782k",
    "outputId": "67ca4b41-3349-46a6-a4ce-c82f2e30784c"
   },
   "outputs": [],
   "source": [
    "train_lstm_results = lstm_model.evaluate(X_train_pad, np.asarray(y_train), verbose=0, batch_size=256)\n",
    "test_lstm_results = lstm_model.evaluate(X_test_pad, np.asarray(y_test), verbose=0, batch_size=256)\n",
    "print(f'Train accuracy: {train_lstm_results[1]*100:0.2f}')\n",
    "print(f'Test accuracy: {test_lstm_results[1]*100:0.2f}')"
   ]
  },
  {
   "cell_type": "code",
   "execution_count": null,
   "metadata": {
    "execution": {
     "iopub.execute_input": "2021-11-11T08:27:41.467481Z",
     "iopub.status.busy": "2021-11-11T08:27:41.466344Z",
     "iopub.status.idle": "2021-11-11T08:27:49.052176Z",
     "shell.execute_reply": "2021-11-11T08:27:49.053068Z"
    },
    "id": "RhI-xCAc55TZ"
   },
   "outputs": [],
   "source": [
    "preds = lstm_model.predict(X_test_pad)\n",
    "\n",
    "preds_flatten = preds.flatten()\n",
    "preds_np = [1 if x > 0.5 else 0 for x in preds_flatten]\n",
    "\n",
    "cm = confusion_matrix(preds_np, y_test)\n",
    "\n",
    "sns.heatmap(cm, annot = True)"
   ]
  },
  {
   "cell_type": "markdown",
   "metadata": {
    "id": "hdjXTt85exjv"
   },
   "source": [
    "##### **LSTM with output size of 128**"
   ]
  },
  {
   "cell_type": "code",
   "execution_count": null,
   "metadata": {
    "colab": {
     "base_uri": "https://localhost:8080/"
    },
    "execution": {
     "iopub.execute_input": "2021-11-11T08:27:49.062297Z",
     "iopub.status.busy": "2021-11-11T08:27:49.061047Z",
     "iopub.status.idle": "2021-11-11T08:27:49.282740Z",
     "shell.execute_reply": "2021-11-11T08:27:49.283419Z"
    },
    "id": "hok5OnT2A3Sk",
    "outputId": "6ffee066-9b86-464c-9d14-6c8378f7e07a"
   },
   "outputs": [],
   "source": [
    "lstm2_model = tf.keras.Sequential([\n",
    "    tf.keras.layers.Embedding(vocab_len, embedding_dim, input_length=max_len, weights=[embedding_matrix], trainable=True),\n",
    "    tf.keras.layers.LSTM(128,return_sequences=False),\n",
    "    tf.keras.layers.Dropout(0.5),\n",
    "    tf.keras.layers.Dense(32, activation='relu'),\n",
    "    tf.keras.layers.Dense(1, activation = 'sigmoid')\n",
    "])\n",
    "\n",
    "lstm2_model.compile(loss='binary_crossentropy', optimizer='adam', metrics=['accuracy'])\n",
    "print(lstm2_model.summary())"
   ]
  },
  {
   "cell_type": "code",
   "execution_count": null,
   "metadata": {
    "colab": {
     "base_uri": "https://localhost:8080/"
    },
    "execution": {
     "iopub.execute_input": "2021-11-11T08:27:49.302291Z",
     "iopub.status.busy": "2021-11-11T08:27:49.301444Z",
     "iopub.status.idle": "2021-11-11T08:53:32.703384Z",
     "shell.execute_reply": "2021-11-11T08:53:32.702890Z"
    },
    "id": "z8lPySv_YRNI",
    "outputId": "17fd66fd-6c2c-47bd-9161-d4476a14a452"
   },
   "outputs": [],
   "source": [
    "epochs  = 20\n",
    "history = lstm2_model.fit(X_train_pad, np.asarray(y_train), epochs = epochs, validation_data=(X_test_pad, np.asarray(y_test)), batch_size=128)"
   ]
  },
  {
   "cell_type": "code",
   "execution_count": null,
   "metadata": {
    "colab": {
     "base_uri": "https://localhost:8080/",
     "height": 516
    },
    "execution": {
     "iopub.execute_input": "2021-11-11T08:53:32.722596Z",
     "iopub.status.busy": "2021-11-11T08:53:32.720753Z",
     "iopub.status.idle": "2021-11-11T08:53:32.847837Z",
     "shell.execute_reply": "2021-11-11T08:53:32.848455Z"
    },
    "id": "s6Mm8AMSYXCw",
    "outputId": "0def36e5-f4c3-487c-fc5a-9aeb4064cf0a"
   },
   "outputs": [],
   "source": [
    "plt.figure(figsize = (15,8))\n",
    "plt.plot(range(epochs), history.history['loss'])\n",
    "plt.plot(range(epochs), history.history['val_loss'])\n",
    "plt.legend(['training_loss', 'validation_loss'])\n",
    "plt.title('Loss')"
   ]
  },
  {
   "cell_type": "code",
   "execution_count": null,
   "metadata": {
    "colab": {
     "base_uri": "https://localhost:8080/",
     "height": 542
    },
    "execution": {
     "iopub.execute_input": "2021-11-11T08:53:32.873179Z",
     "iopub.status.busy": "2021-11-11T08:53:32.872456Z",
     "iopub.status.idle": "2021-11-11T08:53:32.876390Z",
     "shell.execute_reply": "2021-11-11T08:53:32.877120Z"
    },
    "id": "OZuWoRsJYZEq",
    "outputId": "5b26b233-0d40-4bae-ad75-c98ae91954ee"
   },
   "outputs": [],
   "source": [
    "from plotly.subplots import make_subplots\n",
    "import plotly.graph_objects as go\n",
    "\n",
    "fig = make_subplots(\n",
    "    rows=2, cols=1,\n",
    "    subplot_titles=(\"Training Accuracy\", \"Test Accuracy\"))\n",
    "\n",
    "fig.add_trace(go.Scatter(x=[*range(epochs)], y=history.history['accuracy']), row=1, col=1)\n",
    "\n",
    "fig.add_trace(go.Scatter(x=[*range(epochs)], y=history.history['val_accuracy']), row=2, col=1)\n",
    "\n",
    "fig.show()"
   ]
  },
  {
   "cell_type": "code",
   "execution_count": null,
   "metadata": {
    "colab": {
     "base_uri": "https://localhost:8080/"
    },
    "execution": {
     "iopub.execute_input": "2021-11-11T08:53:32.887960Z",
     "iopub.status.busy": "2021-11-11T08:53:32.887105Z",
     "iopub.status.idle": "2021-11-11T08:54:09.870922Z",
     "shell.execute_reply": "2021-11-11T08:54:09.871502Z"
    },
    "id": "N2panoh6YexL",
    "outputId": "f0ae94ca-7c20-4b7e-f7a2-6f6df71cce4e"
   },
   "outputs": [],
   "source": [
    "train_lstm2_results = lstm2_model.evaluate(X_train_pad, np.asarray(y_train), verbose=0, batch_size=256)\n",
    "test_lstm2_results = lstm2_model.evaluate(X_test_pad, np.asarray(y_test), verbose=0, batch_size=256)\n",
    "print(f'Train accuracy: {train_lstm2_results[1]*100:0.3f}')\n",
    "print(f'Test accuracy: {test_lstm2_results[1]*100:0.3f}')"
   ]
  },
  {
   "cell_type": "code",
   "execution_count": null,
   "metadata": {
    "colab": {
     "base_uri": "https://localhost:8080/",
     "height": 282
    },
    "execution": {
     "iopub.execute_input": "2021-11-11T08:54:09.879893Z",
     "iopub.status.busy": "2021-11-11T08:54:09.879207Z",
     "iopub.status.idle": "2021-11-11T08:54:24.632697Z",
     "shell.execute_reply": "2021-11-11T08:54:24.633596Z"
    },
    "id": "9uMbW9tVYkHb",
    "outputId": "c1b53dca-27d7-4b71-cc84-647642e50c2a"
   },
   "outputs": [],
   "source": [
    "preds = lstm2_model.predict(X_test_pad)\n",
    "preds_flatten = preds.flatten()\n",
    "preds_np = [1 if x > 0.5 else 0 for x in preds_flatten]\n",
    "\n",
    "cm = confusion_matrix(preds_np, y_test)\n",
    "\n",
    "sns.heatmap(cm, annot = True)"
   ]
  },
  {
   "cell_type": "markdown",
   "metadata": {
    "id": "_DFZDPTVe0h4"
   },
   "source": [
    "##### **LSTM with output size of 256**"
   ]
  },
  {
   "cell_type": "code",
   "execution_count": null,
   "metadata": {
    "colab": {
     "base_uri": "https://localhost:8080/"
    },
    "execution": {
     "iopub.execute_input": "2021-11-11T08:54:24.644699Z",
     "iopub.status.busy": "2021-11-11T08:54:24.643604Z",
     "iopub.status.idle": "2021-11-11T08:54:24.877199Z",
     "shell.execute_reply": "2021-11-11T08:54:24.878048Z"
    },
    "id": "90Sq5fA6Yyxw",
    "outputId": "7672cdc1-c853-4d8d-cee6-ea4fb800b8ee"
   },
   "outputs": [],
   "source": [
    "lstm3_model = tf.keras.Sequential([\n",
    "    tf.keras.layers.Embedding(vocab_len, embedding_dim, input_length=max_len, weights=[embedding_matrix], trainable=True),\n",
    "    tf.keras.layers.LSTM(256,return_sequences=False),\n",
    "    tf.keras.layers.Dropout(0.5),\n",
    "    tf.keras.layers.Dense(32, activation='relu'),\n",
    "    tf.keras.layers.Dense(1, activation = 'sigmoid')\n",
    "])\n",
    "\n",
    "lstm3_model.compile(loss='binary_crossentropy', optimizer='adam', metrics=['accuracy'])\n",
    "print(lstm3_model.summary())"
   ]
  },
  {
   "cell_type": "code",
   "execution_count": null,
   "metadata": {
    "colab": {
     "base_uri": "https://localhost:8080/"
    },
    "execution": {
     "iopub.execute_input": "2021-11-11T08:54:24.900021Z",
     "iopub.status.busy": "2021-11-11T08:54:24.898920Z",
     "iopub.status.idle": "2021-11-11T09:43:37.670572Z",
     "shell.execute_reply": "2021-11-11T09:43:37.671059Z"
    },
    "id": "fqC-gvJNZAaQ",
    "outputId": "f224e5a3-21f1-4e8a-ef0b-6733a18ac64e"
   },
   "outputs": [],
   "source": [
    "epochs  = 20\n",
    "history = lstm3_model.fit(X_train_pad, np.asarray(y_train), epochs = epochs, validation_data=(X_test_pad, np.asarray(y_test)), batch_size=128)"
   ]
  },
  {
   "cell_type": "code",
   "execution_count": null,
   "metadata": {
    "colab": {
     "base_uri": "https://localhost:8080/",
     "height": 516
    },
    "execution": {
     "iopub.execute_input": "2021-11-11T09:43:37.689723Z",
     "iopub.status.busy": "2021-11-11T09:43:37.688976Z",
     "iopub.status.idle": "2021-11-11T09:43:37.828891Z",
     "shell.execute_reply": "2021-11-11T09:43:37.829638Z"
    },
    "id": "U2HznRLPZCNV",
    "outputId": "11c5fc4f-ee87-417b-9f8c-227ddc63fa7e"
   },
   "outputs": [],
   "source": [
    "plt.figure(figsize = (15,8))\n",
    "plt.plot(range(epochs), history.history['loss'])\n",
    "plt.plot(range(epochs), history.history['val_loss'])\n",
    "plt.legend(['training_loss', 'validation_loss'])\n",
    "plt.title('Loss')"
   ]
  },
  {
   "cell_type": "code",
   "execution_count": null,
   "metadata": {
    "colab": {
     "base_uri": "https://localhost:8080/",
     "height": 542
    },
    "execution": {
     "iopub.execute_input": "2021-11-11T09:43:37.855570Z",
     "iopub.status.busy": "2021-11-11T09:43:37.854542Z",
     "iopub.status.idle": "2021-11-11T09:43:37.861168Z",
     "shell.execute_reply": "2021-11-11T09:43:37.861998Z"
    },
    "id": "mwLwQtGnZCqv",
    "outputId": "2583275e-b8ac-46d7-aa61-475ea9670f28"
   },
   "outputs": [],
   "source": [
    "from plotly.subplots import make_subplots\n",
    "import plotly.graph_objects as go\n",
    "\n",
    "fig = make_subplots(\n",
    "    rows=2, cols=1,\n",
    "    subplot_titles=(\"Training Accuracy\", \"Test Accuracy\"))\n",
    "\n",
    "fig.add_trace(go.Scatter(x=[*range(epochs)], y=history.history['accuracy']), row=1, col=1)\n",
    "\n",
    "fig.add_trace(go.Scatter(x=[*range(epochs)], y=history.history['val_accuracy']), row=2, col=1)\n",
    "\n",
    "fig.show()\n"
   ]
  },
  {
   "cell_type": "code",
   "execution_count": null,
   "metadata": {
    "colab": {
     "base_uri": "https://localhost:8080/"
    },
    "execution": {
     "iopub.execute_input": "2021-11-11T09:43:37.871411Z",
     "iopub.status.busy": "2021-11-11T09:43:37.870656Z",
     "iopub.status.idle": "2021-11-11T09:44:14.795495Z",
     "shell.execute_reply": "2021-11-11T09:44:14.794883Z"
    },
    "id": "DUiJrgUYZgq4",
    "outputId": "0f631d12-3021-4f4c-ba27-61f7638bf35b"
   },
   "outputs": [],
   "source": [
    "train_lstm3_results = lstm2_model.evaluate(X_train_pad, np.asarray(y_train), verbose=0, batch_size=256)\n",
    "test_lstm3_results = lstm2_model.evaluate(X_test_pad, np.asarray(y_test), verbose=0, batch_size=256)\n",
    "print(f'Train accuracy: {train_lstm3_results[1]*100:0.3f}')\n",
    "print(f'Test accuracy: {test_lstm3_results[1]*100:0.3f}')"
   ]
  },
  {
   "cell_type": "code",
   "execution_count": null,
   "metadata": {
    "colab": {
     "base_uri": "https://localhost:8080/",
     "height": 282
    },
    "execution": {
     "iopub.execute_input": "2021-11-11T09:44:14.803543Z",
     "iopub.status.busy": "2021-11-11T09:44:14.802294Z",
     "iopub.status.idle": "2021-11-11T09:44:35.909961Z",
     "shell.execute_reply": "2021-11-11T09:44:35.910875Z"
    },
    "id": "igtEXKcKZhL2",
    "outputId": "1bc3a55a-3634-41fb-af6d-acf26c2101ad"
   },
   "outputs": [],
   "source": [
    "preds = lstm3_model.predict(X_test_pad)\n",
    "preds_flatten = preds.flatten()\n",
    "preds_np = [1 if x > 0.5 else 0 for x in preds_flatten]\n",
    "cm = confusion_matrix(preds_np, y_test)\n",
    "sns.heatmap(cm, annot = True)\n"
   ]
  }
 ],
 "metadata": {
  "accelerator": "GPU",
  "colab": {
   "collapsed_sections": [],
   "name": "EE0005.ipynb",
   "provenance": [],
   "toc_visible": true
  },
  "interpreter": {
   "hash": "edeb67f6f604ac9e8bb06c89d631ff6e4c852a9d180305119db92f3937ba4f5f"
  },
  "kernelspec": {
   "display_name": "Python 3 (ipykernel)",
   "language": "python",
   "name": "python3"
  },
  "language_info": {
   "codemirror_mode": {
    "name": "ipython",
    "version": 3
   },
   "file_extension": ".py",
   "mimetype": "text/x-python",
   "name": "python",
   "nbconvert_exporter": "python",
   "pygments_lexer": "ipython3",
   "version": "3.7.13"
  },
  "widgets": {
   "application/vnd.jupyter.widget-state+json": {
    "state": {
     "010231fb9e4643e5be101ac19ea2024e": {
      "model_module": "@jupyter-widgets/controls",
      "model_module_version": "1.5.0",
      "model_name": "HBoxModel",
      "state": {
       "_dom_classes": [],
       "_model_module": "@jupyter-widgets/controls",
       "_model_module_version": "1.5.0",
       "_model_name": "HBoxModel",
       "_view_count": null,
       "_view_module": "@jupyter-widgets/controls",
       "_view_module_version": "1.5.0",
       "_view_name": "HBoxView",
       "box_style": "",
       "children": [
        "IPY_MODEL_61f6477448714cdfb293a750d612796b",
        "IPY_MODEL_a9fc2a9fd95a419dae69b73f04aa5373",
        "IPY_MODEL_087dd3a47b9b467b8ca1ad069c4616be"
       ],
       "layout": "IPY_MODEL_a1c0d8949b4048598013008930e97867"
      }
     },
     "087dd3a47b9b467b8ca1ad069c4616be": {
      "model_module": "@jupyter-widgets/controls",
      "model_module_version": "1.5.0",
      "model_name": "HTMLModel",
      "state": {
       "_dom_classes": [],
       "_model_module": "@jupyter-widgets/controls",
       "_model_module_version": "1.5.0",
       "_model_name": "HTMLModel",
       "_view_count": null,
       "_view_module": "@jupyter-widgets/controls",
       "_view_module_version": "1.5.0",
       "_view_name": "HTMLView",
       "description": "",
       "description_tooltip": null,
       "layout": "IPY_MODEL_73453cd648dc4b82bef66e018c113fd6",
       "placeholder": "​",
       "style": "IPY_MODEL_b49e373eab634900ba32b3508e947ac2",
       "value": " 957/957 [00:07&lt;00:00, 133.96ba/s]"
      }
     },
     "099e615357354140b433ea8671ee8f45": {
      "model_module": "@jupyter-widgets/controls",
      "model_module_version": "1.5.0",
      "model_name": "DescriptionStyleModel",
      "state": {
       "_model_module": "@jupyter-widgets/controls",
       "_model_module_version": "1.5.0",
       "_model_name": "DescriptionStyleModel",
       "_view_count": null,
       "_view_module": "@jupyter-widgets/base",
       "_view_module_version": "1.2.0",
       "_view_name": "StyleView",
       "description_width": ""
      }
     },
     "102d56c5d94242aca4172ab7cfed80dc": {
      "model_module": "@jupyter-widgets/controls",
      "model_module_version": "1.5.0",
      "model_name": "ProgressStyleModel",
      "state": {
       "_model_module": "@jupyter-widgets/controls",
       "_model_module_version": "1.5.0",
       "_model_name": "ProgressStyleModel",
       "_view_count": null,
       "_view_module": "@jupyter-widgets/base",
       "_view_module_version": "1.2.0",
       "_view_name": "StyleView",
       "bar_color": null,
       "description_width": ""
      }
     },
     "35bd94b5cd7847c7b6d89135c56cd61c": {
      "model_module": "@jupyter-widgets/controls",
      "model_module_version": "1.5.0",
      "model_name": "DescriptionStyleModel",
      "state": {
       "_model_module": "@jupyter-widgets/controls",
       "_model_module_version": "1.5.0",
       "_model_name": "DescriptionStyleModel",
       "_view_count": null,
       "_view_module": "@jupyter-widgets/base",
       "_view_module_version": "1.2.0",
       "_view_name": "StyleView",
       "description_width": ""
      }
     },
     "4e1ff7602496434096a8f85281eeee30": {
      "model_module": "@jupyter-widgets/controls",
      "model_module_version": "1.5.0",
      "model_name": "DescriptionStyleModel",
      "state": {
       "_model_module": "@jupyter-widgets/controls",
       "_model_module_version": "1.5.0",
       "_model_name": "DescriptionStyleModel",
       "_view_count": null,
       "_view_module": "@jupyter-widgets/base",
       "_view_module_version": "1.2.0",
       "_view_name": "StyleView",
       "description_width": ""
      }
     },
     "61f6477448714cdfb293a750d612796b": {
      "model_module": "@jupyter-widgets/controls",
      "model_module_version": "1.5.0",
      "model_name": "HTMLModel",
      "state": {
       "_dom_classes": [],
       "_model_module": "@jupyter-widgets/controls",
       "_model_module_version": "1.5.0",
       "_model_name": "HTMLModel",
       "_view_count": null,
       "_view_module": "@jupyter-widgets/controls",
       "_view_module_version": "1.5.0",
       "_view_name": "HTMLView",
       "description": "",
       "description_tooltip": null,
       "layout": "IPY_MODEL_d6eb789951bb4a83adc738b2cdfa2dda",
       "placeholder": "​",
       "style": "IPY_MODEL_099e615357354140b433ea8671ee8f45",
       "value": "100%"
      }
     },
     "73453cd648dc4b82bef66e018c113fd6": {
      "model_module": "@jupyter-widgets/base",
      "model_module_version": "1.2.0",
      "model_name": "LayoutModel",
      "state": {
       "_model_module": "@jupyter-widgets/base",
       "_model_module_version": "1.2.0",
       "_model_name": "LayoutModel",
       "_view_count": null,
       "_view_module": "@jupyter-widgets/base",
       "_view_module_version": "1.2.0",
       "_view_name": "LayoutView",
       "align_content": null,
       "align_items": null,
       "align_self": null,
       "border": null,
       "bottom": null,
       "display": null,
       "flex": null,
       "flex_flow": null,
       "grid_area": null,
       "grid_auto_columns": null,
       "grid_auto_flow": null,
       "grid_auto_rows": null,
       "grid_column": null,
       "grid_gap": null,
       "grid_row": null,
       "grid_template_areas": null,
       "grid_template_columns": null,
       "grid_template_rows": null,
       "height": null,
       "justify_content": null,
       "justify_items": null,
       "left": null,
       "margin": null,
       "max_height": null,
       "max_width": null,
       "min_height": null,
       "min_width": null,
       "object_fit": null,
       "object_position": null,
       "order": null,
       "overflow": null,
       "overflow_x": null,
       "overflow_y": null,
       "padding": null,
       "right": null,
       "top": null,
       "visibility": null,
       "width": null
      }
     },
     "919ddbf860064b9eaaa2a921169b5f0a": {
      "model_module": "@jupyter-widgets/base",
      "model_module_version": "1.2.0",
      "model_name": "LayoutModel",
      "state": {
       "_model_module": "@jupyter-widgets/base",
       "_model_module_version": "1.2.0",
       "_model_name": "LayoutModel",
       "_view_count": null,
       "_view_module": "@jupyter-widgets/base",
       "_view_module_version": "1.2.0",
       "_view_name": "LayoutView",
       "align_content": null,
       "align_items": null,
       "align_self": null,
       "border": null,
       "bottom": null,
       "display": null,
       "flex": null,
       "flex_flow": null,
       "grid_area": null,
       "grid_auto_columns": null,
       "grid_auto_flow": null,
       "grid_auto_rows": null,
       "grid_column": null,
       "grid_gap": null,
       "grid_row": null,
       "grid_template_areas": null,
       "grid_template_columns": null,
       "grid_template_rows": null,
       "height": null,
       "justify_content": null,
       "justify_items": null,
       "left": null,
       "margin": null,
       "max_height": null,
       "max_width": null,
       "min_height": null,
       "min_width": null,
       "object_fit": null,
       "object_position": null,
       "order": null,
       "overflow": null,
       "overflow_x": null,
       "overflow_y": null,
       "padding": null,
       "right": null,
       "top": null,
       "visibility": null,
       "width": null
      }
     },
     "98683d9b9b2f48d5b0d92423394d34b2": {
      "model_module": "@jupyter-widgets/controls",
      "model_module_version": "1.5.0",
      "model_name": "HTMLModel",
      "state": {
       "_dom_classes": [],
       "_model_module": "@jupyter-widgets/controls",
       "_model_module_version": "1.5.0",
       "_model_name": "HTMLModel",
       "_view_count": null,
       "_view_module": "@jupyter-widgets/controls",
       "_view_module_version": "1.5.0",
       "_view_name": "HTMLView",
       "description": "",
       "description_tooltip": null,
       "layout": "IPY_MODEL_919ddbf860064b9eaaa2a921169b5f0a",
       "placeholder": "​",
       "style": "IPY_MODEL_4e1ff7602496434096a8f85281eeee30",
       "value": " 240/240 [00:01&lt;00:00, 127.99ba/s]"
      }
     },
     "a1c0d8949b4048598013008930e97867": {
      "model_module": "@jupyter-widgets/base",
      "model_module_version": "1.2.0",
      "model_name": "LayoutModel",
      "state": {
       "_model_module": "@jupyter-widgets/base",
       "_model_module_version": "1.2.0",
       "_model_name": "LayoutModel",
       "_view_count": null,
       "_view_module": "@jupyter-widgets/base",
       "_view_module_version": "1.2.0",
       "_view_name": "LayoutView",
       "align_content": null,
       "align_items": null,
       "align_self": null,
       "border": null,
       "bottom": null,
       "display": null,
       "flex": null,
       "flex_flow": null,
       "grid_area": null,
       "grid_auto_columns": null,
       "grid_auto_flow": null,
       "grid_auto_rows": null,
       "grid_column": null,
       "grid_gap": null,
       "grid_row": null,
       "grid_template_areas": null,
       "grid_template_columns": null,
       "grid_template_rows": null,
       "height": null,
       "justify_content": null,
       "justify_items": null,
       "left": null,
       "margin": null,
       "max_height": null,
       "max_width": null,
       "min_height": null,
       "min_width": null,
       "object_fit": null,
       "object_position": null,
       "order": null,
       "overflow": null,
       "overflow_x": null,
       "overflow_y": null,
       "padding": null,
       "right": null,
       "top": null,
       "visibility": null,
       "width": null
      }
     },
     "a9fc2a9fd95a419dae69b73f04aa5373": {
      "model_module": "@jupyter-widgets/controls",
      "model_module_version": "1.5.0",
      "model_name": "FloatProgressModel",
      "state": {
       "_dom_classes": [],
       "_model_module": "@jupyter-widgets/controls",
       "_model_module_version": "1.5.0",
       "_model_name": "FloatProgressModel",
       "_view_count": null,
       "_view_module": "@jupyter-widgets/controls",
       "_view_module_version": "1.5.0",
       "_view_name": "ProgressView",
       "bar_style": "success",
       "description": "",
       "description_tooltip": null,
       "layout": "IPY_MODEL_f546ecfd51d149038073d3d5f6a5df1a",
       "max": 957,
       "min": 0,
       "orientation": "horizontal",
       "style": "IPY_MODEL_102d56c5d94242aca4172ab7cfed80dc",
       "value": 957
      }
     },
     "b49e373eab634900ba32b3508e947ac2": {
      "model_module": "@jupyter-widgets/controls",
      "model_module_version": "1.5.0",
      "model_name": "DescriptionStyleModel",
      "state": {
       "_model_module": "@jupyter-widgets/controls",
       "_model_module_version": "1.5.0",
       "_model_name": "DescriptionStyleModel",
       "_view_count": null,
       "_view_module": "@jupyter-widgets/base",
       "_view_module_version": "1.2.0",
       "_view_name": "StyleView",
       "description_width": ""
      }
     },
     "cca74408fea843e3bb8053267a5756e6": {
      "model_module": "@jupyter-widgets/base",
      "model_module_version": "1.2.0",
      "model_name": "LayoutModel",
      "state": {
       "_model_module": "@jupyter-widgets/base",
       "_model_module_version": "1.2.0",
       "_model_name": "LayoutModel",
       "_view_count": null,
       "_view_module": "@jupyter-widgets/base",
       "_view_module_version": "1.2.0",
       "_view_name": "LayoutView",
       "align_content": null,
       "align_items": null,
       "align_self": null,
       "border": null,
       "bottom": null,
       "display": null,
       "flex": null,
       "flex_flow": null,
       "grid_area": null,
       "grid_auto_columns": null,
       "grid_auto_flow": null,
       "grid_auto_rows": null,
       "grid_column": null,
       "grid_gap": null,
       "grid_row": null,
       "grid_template_areas": null,
       "grid_template_columns": null,
       "grid_template_rows": null,
       "height": null,
       "justify_content": null,
       "justify_items": null,
       "left": null,
       "margin": null,
       "max_height": null,
       "max_width": null,
       "min_height": null,
       "min_width": null,
       "object_fit": null,
       "object_position": null,
       "order": null,
       "overflow": null,
       "overflow_x": null,
       "overflow_y": null,
       "padding": null,
       "right": null,
       "top": null,
       "visibility": null,
       "width": null
      }
     },
     "d0324b24fca64871a32ced63a37fc0bd": {
      "model_module": "@jupyter-widgets/controls",
      "model_module_version": "1.5.0",
      "model_name": "HTMLModel",
      "state": {
       "_dom_classes": [],
       "_model_module": "@jupyter-widgets/controls",
       "_model_module_version": "1.5.0",
       "_model_name": "HTMLModel",
       "_view_count": null,
       "_view_module": "@jupyter-widgets/controls",
       "_view_module_version": "1.5.0",
       "_view_name": "HTMLView",
       "description": "",
       "description_tooltip": null,
       "layout": "IPY_MODEL_e9ac4719a3514422a25234ae61384f88",
       "placeholder": "​",
       "style": "IPY_MODEL_35bd94b5cd7847c7b6d89135c56cd61c",
       "value": "100%"
      }
     },
     "d6eb789951bb4a83adc738b2cdfa2dda": {
      "model_module": "@jupyter-widgets/base",
      "model_module_version": "1.2.0",
      "model_name": "LayoutModel",
      "state": {
       "_model_module": "@jupyter-widgets/base",
       "_model_module_version": "1.2.0",
       "_model_name": "LayoutModel",
       "_view_count": null,
       "_view_module": "@jupyter-widgets/base",
       "_view_module_version": "1.2.0",
       "_view_name": "LayoutView",
       "align_content": null,
       "align_items": null,
       "align_self": null,
       "border": null,
       "bottom": null,
       "display": null,
       "flex": null,
       "flex_flow": null,
       "grid_area": null,
       "grid_auto_columns": null,
       "grid_auto_flow": null,
       "grid_auto_rows": null,
       "grid_column": null,
       "grid_gap": null,
       "grid_row": null,
       "grid_template_areas": null,
       "grid_template_columns": null,
       "grid_template_rows": null,
       "height": null,
       "justify_content": null,
       "justify_items": null,
       "left": null,
       "margin": null,
       "max_height": null,
       "max_width": null,
       "min_height": null,
       "min_width": null,
       "object_fit": null,
       "object_position": null,
       "order": null,
       "overflow": null,
       "overflow_x": null,
       "overflow_y": null,
       "padding": null,
       "right": null,
       "top": null,
       "visibility": null,
       "width": null
      }
     },
     "e030556553934e5c8c1508a1c6399959": {
      "model_module": "@jupyter-widgets/controls",
      "model_module_version": "1.5.0",
      "model_name": "ProgressStyleModel",
      "state": {
       "_model_module": "@jupyter-widgets/controls",
       "_model_module_version": "1.5.0",
       "_model_name": "ProgressStyleModel",
       "_view_count": null,
       "_view_module": "@jupyter-widgets/base",
       "_view_module_version": "1.2.0",
       "_view_name": "StyleView",
       "bar_color": null,
       "description_width": ""
      }
     },
     "e06c9e5102cc4e60b5976fb7c00dd32d": {
      "model_module": "@jupyter-widgets/controls",
      "model_module_version": "1.5.0",
      "model_name": "HBoxModel",
      "state": {
       "_dom_classes": [],
       "_model_module": "@jupyter-widgets/controls",
       "_model_module_version": "1.5.0",
       "_model_name": "HBoxModel",
       "_view_count": null,
       "_view_module": "@jupyter-widgets/controls",
       "_view_module_version": "1.5.0",
       "_view_name": "HBoxView",
       "box_style": "",
       "children": [
        "IPY_MODEL_d0324b24fca64871a32ced63a37fc0bd",
        "IPY_MODEL_f53a0e06f6cb408f80bd59fee73a8c9a",
        "IPY_MODEL_98683d9b9b2f48d5b0d92423394d34b2"
       ],
       "layout": "IPY_MODEL_cca74408fea843e3bb8053267a5756e6"
      }
     },
     "e9ac4719a3514422a25234ae61384f88": {
      "model_module": "@jupyter-widgets/base",
      "model_module_version": "1.2.0",
      "model_name": "LayoutModel",
      "state": {
       "_model_module": "@jupyter-widgets/base",
       "_model_module_version": "1.2.0",
       "_model_name": "LayoutModel",
       "_view_count": null,
       "_view_module": "@jupyter-widgets/base",
       "_view_module_version": "1.2.0",
       "_view_name": "LayoutView",
       "align_content": null,
       "align_items": null,
       "align_self": null,
       "border": null,
       "bottom": null,
       "display": null,
       "flex": null,
       "flex_flow": null,
       "grid_area": null,
       "grid_auto_columns": null,
       "grid_auto_flow": null,
       "grid_auto_rows": null,
       "grid_column": null,
       "grid_gap": null,
       "grid_row": null,
       "grid_template_areas": null,
       "grid_template_columns": null,
       "grid_template_rows": null,
       "height": null,
       "justify_content": null,
       "justify_items": null,
       "left": null,
       "margin": null,
       "max_height": null,
       "max_width": null,
       "min_height": null,
       "min_width": null,
       "object_fit": null,
       "object_position": null,
       "order": null,
       "overflow": null,
       "overflow_x": null,
       "overflow_y": null,
       "padding": null,
       "right": null,
       "top": null,
       "visibility": null,
       "width": null
      }
     },
     "ea875c367f964a77b7bfb9081b5b9fad": {
      "model_module": "@jupyter-widgets/base",
      "model_module_version": "1.2.0",
      "model_name": "LayoutModel",
      "state": {
       "_model_module": "@jupyter-widgets/base",
       "_model_module_version": "1.2.0",
       "_model_name": "LayoutModel",
       "_view_count": null,
       "_view_module": "@jupyter-widgets/base",
       "_view_module_version": "1.2.0",
       "_view_name": "LayoutView",
       "align_content": null,
       "align_items": null,
       "align_self": null,
       "border": null,
       "bottom": null,
       "display": null,
       "flex": null,
       "flex_flow": null,
       "grid_area": null,
       "grid_auto_columns": null,
       "grid_auto_flow": null,
       "grid_auto_rows": null,
       "grid_column": null,
       "grid_gap": null,
       "grid_row": null,
       "grid_template_areas": null,
       "grid_template_columns": null,
       "grid_template_rows": null,
       "height": null,
       "justify_content": null,
       "justify_items": null,
       "left": null,
       "margin": null,
       "max_height": null,
       "max_width": null,
       "min_height": null,
       "min_width": null,
       "object_fit": null,
       "object_position": null,
       "order": null,
       "overflow": null,
       "overflow_x": null,
       "overflow_y": null,
       "padding": null,
       "right": null,
       "top": null,
       "visibility": null,
       "width": null
      }
     },
     "f53a0e06f6cb408f80bd59fee73a8c9a": {
      "model_module": "@jupyter-widgets/controls",
      "model_module_version": "1.5.0",
      "model_name": "FloatProgressModel",
      "state": {
       "_dom_classes": [],
       "_model_module": "@jupyter-widgets/controls",
       "_model_module_version": "1.5.0",
       "_model_name": "FloatProgressModel",
       "_view_count": null,
       "_view_module": "@jupyter-widgets/controls",
       "_view_module_version": "1.5.0",
       "_view_name": "ProgressView",
       "bar_style": "success",
       "description": "",
       "description_tooltip": null,
       "layout": "IPY_MODEL_ea875c367f964a77b7bfb9081b5b9fad",
       "max": 240,
       "min": 0,
       "orientation": "horizontal",
       "style": "IPY_MODEL_e030556553934e5c8c1508a1c6399959",
       "value": 240
      }
     },
     "f546ecfd51d149038073d3d5f6a5df1a": {
      "model_module": "@jupyter-widgets/base",
      "model_module_version": "1.2.0",
      "model_name": "LayoutModel",
      "state": {
       "_model_module": "@jupyter-widgets/base",
       "_model_module_version": "1.2.0",
       "_model_name": "LayoutModel",
       "_view_count": null,
       "_view_module": "@jupyter-widgets/base",
       "_view_module_version": "1.2.0",
       "_view_name": "LayoutView",
       "align_content": null,
       "align_items": null,
       "align_self": null,
       "border": null,
       "bottom": null,
       "display": null,
       "flex": null,
       "flex_flow": null,
       "grid_area": null,
       "grid_auto_columns": null,
       "grid_auto_flow": null,
       "grid_auto_rows": null,
       "grid_column": null,
       "grid_gap": null,
       "grid_row": null,
       "grid_template_areas": null,
       "grid_template_columns": null,
       "grid_template_rows": null,
       "height": null,
       "justify_content": null,
       "justify_items": null,
       "left": null,
       "margin": null,
       "max_height": null,
       "max_width": null,
       "min_height": null,
       "min_width": null,
       "object_fit": null,
       "object_position": null,
       "order": null,
       "overflow": null,
       "overflow_x": null,
       "overflow_y": null,
       "padding": null,
       "right": null,
       "top": null,
       "visibility": null,
       "width": null
      }
     }
    },
    "version_major": 2,
    "version_minor": 0
   }
  }
 },
 "nbformat": 4,
 "nbformat_minor": 1
}
